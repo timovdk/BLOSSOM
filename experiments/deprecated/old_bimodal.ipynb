{
 "cells": [
  {
   "cell_type": "code",
   "execution_count": null,
   "metadata": {},
   "outputs": [],
   "source": [
    "import networkx as nx\n",
    "import matplotlib\n",
    "import matplotlib.pyplot as plt\n",
    "import json\n",
    "from scipy.optimize import curve_fit\n",
    "import numpy as np\n",
    "\n",
    "matplotlib.rcParams['path.simplify'] = False"
   ]
  },
  {
   "cell_type": "code",
   "execution_count": null,
   "metadata": {},
   "outputs": [],
   "source": [
    "mu, sigma = 0.5, 0.17\n",
    "mu2, sigma2 = -0.5, 0.17\n",
    "#data generation\n",
    "np.random.seed(123)\n",
    "data=np.concatenate((np.random.normal(mu, sigma, 5000), np.random.normal(mu2, sigma2, 2500)))\n",
    "y,x,_=plt.hist(data, 100, alpha=.3, label='data')\n",
    "x=(x[1:]+x[:-1])/2 # for len(x)==len(y)\n",
    "\n",
    "#x, y inputs can be lists or 1D numpy arrays\n",
    "\n",
    "def gauss(x, mu, sigma, A):\n",
    "    return A*np.exp(-(x-mu)**2/2/sigma**2)\n",
    "\n",
    "def bimodal(x, mu1, sigma1, A1, mu2, sigma2, A2):\n",
    "    return gauss(x,mu1,sigma1,A1)+gauss(x,mu2,sigma2,A2)\n",
    "\n",
    "expected = (mu, sigma, 250, mu2, sigma2, 125)\n",
    "params, cov = curve_fit(bimodal, x, y, expected)\n",
    "sigma=np.sqrt(np.diag(cov))\n",
    "x_fit = np.linspace(x.min(), x.max(), 500)"
   ]
  },
  {
   "cell_type": "code",
   "execution_count": null,
   "metadata": {},
   "outputs": [],
   "source": [
    "G = nx.erdos_renyi_graph(9, 0.3)\n",
    "for e in G.edges():\n",
    "    weight = 0\n",
    "    # ensure we only give weights between -1 and 1 that are non zero\n",
    "    while not (-1 <= weight <= 1) or weight == 0:\n",
    "        weight = np.random.choice(data)\n",
    "    G[e[0]][e[1]]['weight']  = weight\n",
    "\n",
    "edges,weights = zip(*nx.get_edge_attributes(G,'weight').items())\n",
    "nw_weights = tuple(x+1 for x in weights)\n",
    "widths = tuple(abs(4*x) for x in weights)\n",
    "pos = nx.spring_layout(G, k=1)\n",
    "d = dict(G.degree)"
   ]
  },
  {
   "cell_type": "code",
   "execution_count": null,
   "metadata": {},
   "outputs": [],
   "source": [
    "fig = plt.figure(figsize=(10, 5))\n",
    "(ax1, ax2) = fig.subplots(1, 2)\n",
    "\n",
    "ax1.hist(data, 100, alpha=.3, label='data')\n",
    "ax1.plot(x_fit, bimodal(x_fit, *params), color='red', lw=1, label='model')\n",
    "ax1.set_title(\"Bimodal Distribution\")\n",
    "\n",
    "nx.draw_networkx_nodes(G, pos, node_color='#918F8F', node_size=100, ax=ax2)\n",
    "nx.draw_networkx_labels(G, pos, font_size=10, font_color='k', ax=ax2)\n",
    "edge_collection = nx.draw_networkx_edges(G, pos, edgelist=edges, edge_color=weights, edge_cmap=plt.cm.PuOr, width=widths, edge_vmin=-1, edge_vmax=1, ax=ax2)\n",
    "ax2.set_title(\"Co-occurrence Network\")\n",
    "plt.colorbar(edge_collection)\n",
    "plt.box(False)\n",
    "fig.savefig(\"4-co-occ-net.pdf\", format=\"pdf\", bbox_inches=\"tight\")\n",
    "fig.show()"
   ]
  }
 ],
 "metadata": {
  "language_info": {
   "name": "python"
  }
 },
 "nbformat": 4,
 "nbformat_minor": 2
}
