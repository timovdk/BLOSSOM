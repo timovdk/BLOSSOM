{
 "cells": [
  {
   "cell_type": "code",
   "execution_count": 21,
   "metadata": {},
   "outputs": [],
   "source": [
    "import pandas as pd\n",
    "from sklearn.metrics import mean_absolute_error, median_absolute_error"
   ]
  },
  {
   "cell_type": "markdown",
   "metadata": {},
   "source": [
    "# Abundance"
   ]
  },
  {
   "cell_type": "markdown",
   "metadata": {},
   "source": [
    "## Sample"
   ]
  },
  {
   "cell_type": "code",
   "execution_count": 43,
   "metadata": {},
   "outputs": [
    {
     "name": "stderr",
     "output_type": "stream",
     "text": [
      "/tmp/ipykernel_1799/2029218270.py:25: FutureWarning: The behavior of DataFrame concatenation with empty or all-NA entries is deprecated. In a future version, this will no longer exclude empty or all-NA columns when determining the result dtypes. To retain the old behavior, exclude the relevant entries before the concat operation.\n",
      "  metrics_reg = pd.concat([metrics_reg, pd.DataFrame([temp])])\n",
      "/tmp/ipykernel_1799/2029218270.py:30: FutureWarning: The behavior of DataFrame concatenation with empty or all-NA entries is deprecated. In a future version, this will no longer exclude empty or all-NA columns when determining the result dtypes. To retain the old behavior, exclude the relevant entries before the concat operation.\n",
      "  metrics_w = pd.concat([metrics_w, pd.DataFrame([temp])])\n"
     ]
    }
   ],
   "source": [
    "baseline = pd.read_csv('prep_out/baseline_abundances.csv')\n",
    "estimate_reg = pd.read_csv('prep_out/estimated_abundances_reg.csv')\n",
    "estimate_w = pd.read_csv('prep_out/estimated_abundances_w.csv')\n",
    "rs = [1, 2, 3, 4, 5]\n",
    "sample_times = [0, 100, 200, 300, 400, 500, 600]\n",
    "\n",
    "metrics_reg = pd.DataFrame(columns=['filename', 'sample_time', 'r', 'sample_id', 'mae', 'mdae'])\n",
    "metrics_w = pd.DataFrame(columns=['filename', 'sample_time', 'r', 'sample_id', 'mae', 'mdae'])\n",
    "for file in baseline['filename'].unique():\n",
    "    bl = baseline[baseline['filename'] == file]\n",
    "    bl = bl[['0', '1', '2', '3', '4', '5', '6', '7', '8']].iloc[0].values\n",
    "    \n",
    "    es_r = estimate_reg[estimate_reg['filename'] == file]\n",
    "    es_w = estimate_w[estimate_w['filename'] == file]\n",
    "    for st in sample_times:\n",
    "        es_st_r = es_r[es_r['sample_time'] == st]\n",
    "        es_st_w = es_w[es_w['sample_time'] == st]\n",
    "        for r in rs:\n",
    "            es_r_r = es_st_r[es_st_r['r'] == r]\n",
    "            es_w_r = es_st_w[es_st_w['r'] == r]\n",
    "\n",
    "            for i in range(len(es_r_r['sample_id'].unique())):\n",
    "                es_r_ab = es_r_r[es_r_r['sample_id'] == i][['0', '1', '2', '3', '4', '5', '6', '7', '8']].iloc[0].values\n",
    "                temp = {'filename': file, 'sample_time': st, 'r': r, 'sample_id': i, 'mae': mean_absolute_error(bl, es_r_ab), 'mdae': median_absolute_error(bl, es_r_ab)}\n",
    "                metrics_reg = pd.concat([metrics_reg, pd.DataFrame([temp])])\n",
    "\n",
    "            for i in range(len(es_w_r['sample_id'].unique())):\n",
    "                es_w_ab = es_w_r[es_w_r['sample_id'] == i][['0', '1', '2', '3', '4', '5', '6', '7', '8']].iloc[0].values\n",
    "                temp = {'filename': file, 'sample_time': st, 'r': r, 'sample_id': i, 'mae': mean_absolute_error(bl, es_w_ab), 'mdae': median_absolute_error(bl, es_w_ab)}\n",
    "                metrics_w = pd.concat([metrics_w, pd.DataFrame([temp])])\n",
    "\n",
    "metrics_w.to_csv('./analysis_out/abundances_sample_w.csv', index=False) \n",
    "metrics_reg.to_csv('./analysis_out/abundances_sample_reg.csv', index=False)"
   ]
  },
  {
   "cell_type": "markdown",
   "metadata": {},
   "source": [
    "## Plot"
   ]
  },
  {
   "cell_type": "code",
   "execution_count": 44,
   "metadata": {},
   "outputs": [
    {
     "name": "stderr",
     "output_type": "stream",
     "text": [
      "/tmp/ipykernel_1799/2502068047.py:27: FutureWarning: The behavior of DataFrame concatenation with empty or all-NA entries is deprecated. In a future version, this will no longer exclude empty or all-NA columns when determining the result dtypes. To retain the old behavior, exclude the relevant entries before the concat operation.\n",
      "  metrics_reg = pd.concat([metrics_reg, pd.DataFrame([temp])])\n",
      "/tmp/ipykernel_1799/2502068047.py:33: FutureWarning: The behavior of DataFrame concatenation with empty or all-NA entries is deprecated. In a future version, this will no longer exclude empty or all-NA columns when determining the result dtypes. To retain the old behavior, exclude the relevant entries before the concat operation.\n",
      "  metrics_w = pd.concat([metrics_w, pd.DataFrame([temp])])\n"
     ]
    }
   ],
   "source": [
    "baseline = pd.read_csv('prep_out/baseline_abundances.csv')\n",
    "estimate_reg = pd.read_csv('prep_out/estimated_abundances_reg.csv')\n",
    "estimate_w = pd.read_csv('prep_out/estimated_abundances_w.csv')\n",
    "rs = [1, 2, 3, 4, 5]\n",
    "sample_times = [0, 100, 200, 300, 400, 500, 600]\n",
    "\n",
    "metrics_reg = pd.DataFrame(columns=['filename', 'sample_time', 'r', 'mae', 'mdae'])\n",
    "metrics_w = pd.DataFrame(columns=['filename', 'sample_time', 'r', 'mae', 'mdae'])\n",
    "for file in baseline['filename'].unique():\n",
    "    bl = baseline[baseline['filename'] == file]\n",
    "    \n",
    "    es_r = estimate_reg[estimate_reg['filename'] == file]\n",
    "    es_w = estimate_w[estimate_w['filename'] == file]\n",
    "    for st in sample_times:\n",
    "        es_st_r = es_r[es_r['sample_time'] == st]\n",
    "        es_st_w = es_w[es_w['sample_time'] == st]\n",
    "        bl_st = bl[bl['sample_time'] == st]\n",
    "        bl_st_ab = bl_st[['0', '1', '2', '3', '4', '5', '6', '7', '8']].iloc[0].values\n",
    "        for r in rs:\n",
    "            es_r_r = es_st_r[es_st_r['r'] == r]\n",
    "            es_w_r = es_st_w[es_st_w['r'] == r]\n",
    "        \n",
    "            es_r_ab = es_r_r[['0', '1', '2', '3', '4', '5', '6', '7', '8']].sum().values\n",
    "            es_r_ab /= len(es_r_r['sample_id'].unique())\n",
    "            \n",
    "            temp = {'filename': file, 'sample_time': st, 'r': r, 'mae': mean_absolute_error(bl_st_ab, es_r_ab), 'mdae': median_absolute_error(bl_st_ab, es_r_ab)}\n",
    "            metrics_reg = pd.concat([metrics_reg, pd.DataFrame([temp])])\n",
    "            \n",
    "            es_w_ab = es_w_r[['0', '1', '2', '3', '4', '5', '6', '7', '8']].sum().values\n",
    "            es_w_ab /= len(es_w_r['sample_id'].unique())\n",
    "            \n",
    "            temp = {'filename': file, 'sample_time': st, 'r': r, 'mae': mean_absolute_error(bl_st_ab, es_w_ab), 'mdae': median_absolute_error(bl_st_ab, es_w_ab)}\n",
    "            metrics_w = pd.concat([metrics_w, pd.DataFrame([temp])])\n",
    "\n",
    "metrics_w.to_csv('./analysis_out/abundances_plot_w.csv', index=False)\n",
    "metrics_reg.to_csv('./analysis_out/abundances_plot_reg.csv', index=False)"
   ]
  },
  {
   "cell_type": "markdown",
   "metadata": {},
   "source": [
    "## Temporal"
   ]
  },
  {
   "cell_type": "code",
   "execution_count": 45,
   "metadata": {},
   "outputs": [
    {
     "name": "stderr",
     "output_type": "stream",
     "text": [
      "/tmp/ipykernel_1799/4156252175.py:26: FutureWarning: The behavior of DataFrame concatenation with empty or all-NA entries is deprecated. In a future version, this will no longer exclude empty or all-NA columns when determining the result dtypes. To retain the old behavior, exclude the relevant entries before the concat operation.\n",
      "  metrics_reg = pd.concat([metrics_reg, pd.DataFrame([temp])])\n",
      "/tmp/ipykernel_1799/4156252175.py:33: FutureWarning: The behavior of DataFrame concatenation with empty or all-NA entries is deprecated. In a future version, this will no longer exclude empty or all-NA columns when determining the result dtypes. To retain the old behavior, exclude the relevant entries before the concat operation.\n",
      "  metrics_w = pd.concat([metrics_w, pd.DataFrame([temp])])\n"
     ]
    }
   ],
   "source": [
    "baseline = pd.read_csv('prep_out/baseline_abundances.csv')\n",
    "estimate_reg = pd.read_csv('prep_out/estimated_abundances_reg.csv')\n",
    "estimate_w = pd.read_csv('prep_out/estimated_abundances_w.csv')\n",
    "rs = [1, 2, 3, 4, 5]\n",
    "sample_times = [0, 100, 200, 300, 400, 500, 600]\n",
    "\n",
    "metrics_reg = pd.DataFrame(columns=['filename', 'r', 'mae', 'mdae'])\n",
    "metrics_w = pd.DataFrame(columns=['filename', 'r', 'mae', 'mdae'])\n",
    "for file in baseline['filename'].unique():\n",
    "    bl = baseline[baseline['filename'] == file]\n",
    "    \n",
    "    es_r = estimate_reg[estimate_reg['filename'] == file]\n",
    "    es_w = estimate_w[estimate_w['filename'] == file]\n",
    "    \n",
    "    bl_ab = bl[['0', '1', '2', '3', '4', '5', '6', '7', '8']].iloc[0].values\n",
    "    bl_ab /= len(sample_times)\n",
    "    for r in rs:\n",
    "        es_r_r = es_r[es_r['r'] == r]\n",
    "        es_w_r = es_w[es_w['r'] == r]\n",
    "    \n",
    "        es_r_ab = es_r_r[['0', '1', '2', '3', '4', '5', '6', '7', '8']].sum().values\n",
    "        es_r_ab /= len(es_r_r['sample_id'].unique())\n",
    "        es_r_ab /= len(sample_times)\n",
    "        \n",
    "        temp = {'filename': file, 'r': r, 'mae': mean_absolute_error(bl_ab, es_r_ab), 'mdae': median_absolute_error(bl_ab, es_r_ab)}\n",
    "        metrics_reg = pd.concat([metrics_reg, pd.DataFrame([temp])])\n",
    "        \n",
    "        es_w_ab = es_w_r[['0', '1', '2', '3', '4', '5', '6', '7', '8']].sum().values\n",
    "        es_w_ab /= len(es_w_r['sample_id'].unique())\n",
    "        es_w_ab /= len(sample_times)\n",
    "        \n",
    "        temp = {'filename': file, 'r': r, 'mae': mean_absolute_error(bl_ab, es_w_ab), 'mdae': median_absolute_error(bl_ab, es_w_ab)}\n",
    "        metrics_w = pd.concat([metrics_w, pd.DataFrame([temp])])\n",
    "\n",
    "metrics_w.to_csv('./analysis_out/abundances_temporal_w.csv', index=False)\n",
    "metrics_reg.to_csv('./analysis_out/abundances_temporal_reg.csv', index=False)"
   ]
  },
  {
   "cell_type": "markdown",
   "metadata": {},
   "source": [
    "# Diversity"
   ]
  },
  {
   "cell_type": "markdown",
   "metadata": {},
   "source": [
    "## Sample"
   ]
  },
  {
   "cell_type": "code",
   "execution_count": 25,
   "metadata": {},
   "outputs": [
    {
     "name": "stderr",
     "output_type": "stream",
     "text": [
      "/tmp/ipykernel_1799/431324741.py:29: FutureWarning: The behavior of DataFrame concatenation with empty or all-NA entries is deprecated. In a future version, this will no longer exclude empty or all-NA columns when determining the result dtypes. To retain the old behavior, exclude the relevant entries before the concat operation.\n",
      "  metrics_reg = pd.concat([metrics_reg, pd.DataFrame([temp])])\n",
      "/tmp/ipykernel_1799/431324741.py:36: FutureWarning: The behavior of DataFrame concatenation with empty or all-NA entries is deprecated. In a future version, this will no longer exclude empty or all-NA columns when determining the result dtypes. To retain the old behavior, exclude the relevant entries before the concat operation.\n",
      "  metrics_w = pd.concat([metrics_w, pd.DataFrame([temp])])\n"
     ]
    }
   ],
   "source": [
    "baseline = pd.read_csv('prep_out/baseline_diversity_indices.csv')\n",
    "estimate_reg = pd.read_csv('prep_out/estimated_diversity_indices_sample_reg.csv')\n",
    "estimate_w = pd.read_csv('prep_out/estimated_diversity_indices_sample_w.csv')\n",
    "rs = [1, 2, 3, 4, 5]\n",
    "\n",
    "metrics_reg = pd.DataFrame(columns=['filename', 'r', 'sample_time', 'sample_id', 'mae_sh', 'mae_si', 'mdae_sh', 'mdae_si'])\n",
    "metrics_w = pd.DataFrame(columns=['filename', 'r', 'sample_time', 'sample_id', 'mae_sh', 'mae_si', 'mdae_sh', 'mdae_si'])\n",
    "for file in baseline['filename'].unique():\n",
    "    bl_f = baseline[baseline['filename'] == file]\n",
    "\n",
    "    es_r = estimate_reg[estimate_reg['filename'] == file]\n",
    "    es_w = estimate_w[estimate_w['filename'] == file]\n",
    "    for st in sample_times:\n",
    "        bl_st = bl_f[bl_f['sample_time'] == st]\n",
    "        bl_sh = bl_st['shannon'].values[0]\n",
    "        bl_si = bl_st['simpson'].values[0]\n",
    "        \n",
    "        es_st_r = es_r[es_r['sample_time'] == st]\n",
    "        es_st_w = es_w[es_w['sample_time'] == st]\n",
    "        for r in rs:\n",
    "            es_r_r = es_st_r[es_st_r['r'] == r]\n",
    "            es_w_r = es_st_w[es_st_w['r'] == r]\n",
    "\n",
    "            for sample_id in range(len(es_r['sample_id'].unique())):\n",
    "                es_r_s = es_r_r[es_r_r['sample_id'] == sample_id]\n",
    "                sh = es_r_s['shannon'].values[0]\n",
    "                si = es_r_s['simpson'].values[0]\n",
    "                temp = {'filename': file, 'r': r, 'sample_time': st, 'sample_id': sample_id, 'mae_sh': mean_absolute_error([bl_sh], [sh]), 'mae_si': mean_absolute_error([bl_si], [si]), 'mdae_sh': median_absolute_error([bl_sh], [sh]), 'mdae_si': median_absolute_error([bl_si], [si])}\n",
    "                metrics_reg = pd.concat([metrics_reg, pd.DataFrame([temp])])\n",
    "\n",
    "            for sample_id in range(len(es_w['sample_id'].unique())):\n",
    "                es_w_s = es_w_r[es_w_r['sample_id'] == sample_id]\n",
    "                sh = es_w_s['shannon'].values[0]\n",
    "                si = es_w_s['simpson'].values[0]\n",
    "                temp = {'filename': file, 'r': r, 'sample_time': st, 'sample_id': sample_id, 'mae_sh': mean_absolute_error([bl_sh], [sh]), 'mae_si': mean_absolute_error([bl_si], [si]), 'mdae_sh': median_absolute_error([bl_sh], [sh]), 'mdae_si': median_absolute_error([bl_si], [si])}\n",
    "                metrics_w = pd.concat([metrics_w, pd.DataFrame([temp])])\n",
    "                \n",
    "metrics_w.to_csv('./analysis_out/diversity_indices_sample_w.csv', index=False)\n",
    "metrics_reg.to_csv('./analysis_out/diversity_indices_sample_reg.csv', index=False)"
   ]
  },
  {
   "cell_type": "markdown",
   "metadata": {},
   "source": [
    "## Plot"
   ]
  },
  {
   "cell_type": "code",
   "execution_count": 26,
   "metadata": {},
   "outputs": [
    {
     "name": "stderr",
     "output_type": "stream",
     "text": [
      "/tmp/ipykernel_1799/685481794.py:28: FutureWarning: The behavior of DataFrame concatenation with empty or all-NA entries is deprecated. In a future version, this will no longer exclude empty or all-NA columns when determining the result dtypes. To retain the old behavior, exclude the relevant entries before the concat operation.\n",
      "  metrics_reg = pd.concat([metrics_reg, pd.DataFrame([temp])])\n",
      "/tmp/ipykernel_1799/685481794.py:33: FutureWarning: The behavior of DataFrame concatenation with empty or all-NA entries is deprecated. In a future version, this will no longer exclude empty or all-NA columns when determining the result dtypes. To retain the old behavior, exclude the relevant entries before the concat operation.\n",
      "  metrics_w = pd.concat([metrics_w, pd.DataFrame([temp])])\n"
     ]
    }
   ],
   "source": [
    "baseline = pd.read_csv('prep_out/baseline_diversity_indices.csv')\n",
    "estimate_reg = pd.read_csv('prep_out/estimated_diversity_indices_plot_reg.csv')\n",
    "estimate_w = pd.read_csv('prep_out/estimated_diversity_indices_plot_w.csv')\n",
    "rs = [1, 2, 3, 4, 5]\n",
    "\n",
    "metrics_reg = pd.DataFrame(columns=['filename', 'r', 'sample_time', 'mae_sh', 'mae_si', 'mdae_sh', 'mdae_si'])\n",
    "metrics_w = pd.DataFrame(columns=['filename', 'r', 'sample_time', 'mae_sh', 'mae_si', 'mdae_sh', 'mdae_si'])\n",
    "for file in baseline['filename'].unique():\n",
    "    bl_f = baseline[baseline['filename'] == file]\n",
    "    \n",
    "    es_r = estimate_reg[estimate_reg['filename'] == file]\n",
    "    es_w = estimate_w[estimate_w['filename'] == file]\n",
    "    for st in sample_times:\n",
    "        bl_st = bl_f[bl_f['sample_time'] == st]\n",
    "        bl_sh = bl_st['shannon'].values[0]\n",
    "        bl_si = bl_st['simpson'].values[0]\n",
    "        \n",
    "        es_st_r = es_r[es_r['sample_time'] == st]\n",
    "        es_st_w = es_w[es_w['sample_time'] == st]\n",
    "        \n",
    "        for r in rs:\n",
    "            es_r_r = es_st_r[es_st_r['r'] == r]\n",
    "            es_w_r = es_st_w[es_st_w['r'] == r]\n",
    "        \n",
    "            sh = es_r_r['shannon'].values[0]\n",
    "            si = es_r_r['simpson'].values[0]\n",
    "            temp = {'filename': file, 'r': r, 'sample_time': st, 'mae_sh': mean_absolute_error([bl_sh], [sh]), 'mae_si': mean_absolute_error([bl_si], [si]), 'mdae_sh': median_absolute_error([bl_sh], [sh]), 'mdae_si': median_absolute_error([bl_si], [si])}\n",
    "            metrics_reg = pd.concat([metrics_reg, pd.DataFrame([temp])])\n",
    "    \n",
    "            sh = es_w_r['shannon'].values[0]\n",
    "            si = es_w_r['simpson'].values[0]\n",
    "            temp = {'filename': file, 'r': r, 'sample_time': st, 'mae_sh': mean_absolute_error([bl_sh], [sh]), 'mae_si': mean_absolute_error([bl_si], [si]), 'mdae_sh': median_absolute_error([bl_sh], [sh]), 'mdae_si': median_absolute_error([bl_si], [si])}\n",
    "            metrics_w = pd.concat([metrics_w, pd.DataFrame([temp])])\n",
    "                \n",
    "metrics_w.to_csv('./analysis_out/diversity_indices_plot_w.csv', index=False)\n",
    "metrics_reg.to_csv('./analysis_out/diversity_indices_plot_reg.csv', index=False)"
   ]
  },
  {
   "cell_type": "markdown",
   "metadata": {},
   "source": [
    "## Temporal"
   ]
  },
  {
   "cell_type": "code",
   "execution_count": 27,
   "metadata": {},
   "outputs": [
    {
     "name": "stderr",
     "output_type": "stream",
     "text": [
      "/tmp/ipykernel_1799/1610109211.py:23: FutureWarning: The behavior of DataFrame concatenation with empty or all-NA entries is deprecated. In a future version, this will no longer exclude empty or all-NA columns when determining the result dtypes. To retain the old behavior, exclude the relevant entries before the concat operation.\n",
      "  metrics_reg = pd.concat([metrics_reg, pd.DataFrame([temp])])\n",
      "/tmp/ipykernel_1799/1610109211.py:28: FutureWarning: The behavior of DataFrame concatenation with empty or all-NA entries is deprecated. In a future version, this will no longer exclude empty or all-NA columns when determining the result dtypes. To retain the old behavior, exclude the relevant entries before the concat operation.\n",
      "  metrics_w = pd.concat([metrics_w, pd.DataFrame([temp])])\n"
     ]
    }
   ],
   "source": [
    "baseline = pd.read_csv('prep_out/baseline_diversity_indices.csv')\n",
    "estimate_reg = pd.read_csv('prep_out/estimated_diversity_indices_temporal_reg.csv')\n",
    "estimate_w = pd.read_csv('prep_out/estimated_diversity_indices_temporal_w.csv')\n",
    "rs = [1, 2, 3, 4, 5]\n",
    "\n",
    "metrics_reg = pd.DataFrame(columns=['filename', 'r', 'mae_sh', 'mae_si', 'mdae_sh', 'mdae_si'])\n",
    "metrics_w = pd.DataFrame(columns=['filename', 'r', 'mae_sh', 'mae_si', 'mdae_sh', 'mdae_si'])\n",
    "for file in baseline['filename'].unique():\n",
    "    bl_f = baseline[baseline['filename'] == file]\n",
    "    bl_sh = bl_f['shannon'].mean()\n",
    "    bl_si = bl_f['simpson'].mean()\n",
    "    \n",
    "    es_r = estimate_reg[estimate_reg['filename'] == file]\n",
    "    es_w = estimate_w[estimate_w['filename'] == file]\n",
    "\n",
    "    for r in rs:\n",
    "        es_r_r = es_r[es_r['r'] == r]\n",
    "        es_w_r = es_r[es_r['r'] == r]\n",
    "    \n",
    "        sh = es_r_r['shannon'].values[0]\n",
    "        si = es_r_r['simpson'].values[0]\n",
    "        temp = {'filename': file, 'r': r, 'mae_sh': mean_absolute_error([bl_sh], [sh]), 'mae_si': mean_absolute_error([bl_si], [si]), 'mdae_sh': median_absolute_error([bl_sh], [sh]), 'mdae_si': median_absolute_error([bl_si], [si])}\n",
    "        metrics_reg = pd.concat([metrics_reg, pd.DataFrame([temp])])\n",
    "\n",
    "        sh = es_w_r['shannon'].values[0]\n",
    "        si = es_w_r['simpson'].values[0]\n",
    "        temp = {'filename': file, 'r': r, 'mae_sh': mean_absolute_error([bl_sh], [sh]), 'mae_si': mean_absolute_error([bl_si], [si]), 'mdae_sh': median_absolute_error([bl_sh], [sh]), 'mdae_si': median_absolute_error([bl_si], [si])}\n",
    "        metrics_w = pd.concat([metrics_w, pd.DataFrame([temp])])\n",
    "                \n",
    "metrics_w.to_csv('./analysis_out/diversity_indices_temporal_w.csv', index=False)\n",
    "metrics_reg.to_csv('./analysis_out/diversity_indices_temporal_reg.csv', index=False)"
   ]
  },
  {
   "cell_type": "markdown",
   "metadata": {},
   "source": [
    "# D-Index"
   ]
  },
  {
   "cell_type": "markdown",
   "metadata": {},
   "source": [
    "## Sample"
   ]
  },
  {
   "cell_type": "code",
   "execution_count": 28,
   "metadata": {},
   "outputs": [
    {
     "name": "stderr",
     "output_type": "stream",
     "text": [
      "/tmp/ipykernel_1799/52406150.py:30: FutureWarning: The behavior of DataFrame concatenation with empty or all-NA entries is deprecated. In a future version, this will no longer exclude empty or all-NA columns when determining the result dtypes. To retain the old behavior, exclude the relevant entries before the concat operation.\n",
      "  metrics_reg = pd.concat([metrics_reg, pd.DataFrame([temp])])\n",
      "/tmp/ipykernel_1799/52406150.py:39: FutureWarning: The behavior of DataFrame concatenation with empty or all-NA entries is deprecated. In a future version, this will no longer exclude empty or all-NA columns when determining the result dtypes. To retain the old behavior, exclude the relevant entries before the concat operation.\n",
      "  metrics_w = pd.concat([metrics_w, pd.DataFrame([temp])])\n"
     ]
    }
   ],
   "source": [
    "baseline = pd.read_csv('prep_out/baseline_d_index.csv')\n",
    "estimate_reg = pd.read_csv('prep_out/estimated_d_index_sample_reg.csv')\n",
    "estimate_w = pd.read_csv('prep_out/estimated_d_index_sample_w.csv')\n",
    "rs = [1, 2, 3, 4, 5]\n",
    "sample_times = [0, 100, 200, 300, 400, 500, 600]\n",
    "\n",
    "metrics_reg = pd.DataFrame(columns=['filename', 'sample_time', 'r', 'sample_id', 'type_id', 'mae', 'mdae'])\n",
    "metrics_w = pd.DataFrame(columns=['filename', 'sample_time', 'r', 'sample_id', 'type_id', 'mae', 'mdae'])\n",
    "for file in baseline['filename'].unique():\n",
    "    bl_f = baseline[baseline['filename'] == file]\n",
    "    es_r = estimate_reg[estimate_reg['filename'] == file]\n",
    "    es_w = estimate_w[estimate_w['filename'] == file]\n",
    "\n",
    "    for t in range(len(baseline['type_id'].unique())):\n",
    "        bl_t = bl_f[bl_f['type_id'] == t]\n",
    "        es_r_t = es_r[es_r['type_id'] == t]\n",
    "        es_w_t = es_w[es_w['type_id'] == t]\n",
    "        for st in sample_times:\n",
    "            es_st_r = es_r_t[es_r_t['sample_time'] == st]\n",
    "            es_st_w = es_w_t[es_w_t['sample_time'] == st]\n",
    "            bl_st = bl_t[bl_t['sample_time'] == st][['0', '1', '2', '3', '4', '5', '6', '7', '8']].iloc[0].values\n",
    "\n",
    "            for sample_id in range(len(es_st_r['sample_id'].unique())):\n",
    "                es_r_s = es_st_r[es_st_r['sample_id'] == sample_id]\n",
    "\n",
    "                for r in rs:\n",
    "                    es_r_r = es_r_s[es_r_s['r'] == r][['0', '1', '2', '3', '4', '5', '6', '7', '8']].iloc[0].values\n",
    "\n",
    "                    temp = {'filename': file, 'sample_time': st, 'r': r, 'sample_id': sample_id,'type_id': t, 'mae': mean_absolute_error(bl_st, es_r_r), 'mdae': median_absolute_error(bl_st, es_r_r)}\n",
    "                    metrics_reg = pd.concat([metrics_reg, pd.DataFrame([temp])])\n",
    "\n",
    "            for sample_id in range(len(es_st_w['sample_id'].unique())):\n",
    "                es_w_s = es_st_w[es_st_w['sample_id'] == sample_id]\n",
    "\n",
    "                for r in rs:\n",
    "                    es_w_r = es_w_s[es_w_s['r'] == r][['0', '1', '2', '3', '4', '5', '6', '7', '8']].iloc[0].values\n",
    "\n",
    "                    temp = {'filename': file, 'sample_time': st, 'r': r, 'sample_id': sample_id, 'type_id': t, 'mae': mean_absolute_error(bl_st, es_w_r), 'mdae': median_absolute_error(bl_st, es_w_r)}\n",
    "                    metrics_w = pd.concat([metrics_w, pd.DataFrame([temp])])\n",
    "                \n",
    "metrics_w.to_csv('./analysis_out/d_index_sample_w.csv', index=False)\n",
    "metrics_reg.to_csv('./analysis_out/d_index_sample_reg.csv', index=False)"
   ]
  },
  {
   "cell_type": "markdown",
   "metadata": {},
   "source": [
    "## Plot"
   ]
  },
  {
   "cell_type": "code",
   "execution_count": 29,
   "metadata": {},
   "outputs": [
    {
     "name": "stderr",
     "output_type": "stream",
     "text": [
      "/tmp/ipykernel_1799/2350242809.py:28: FutureWarning: The behavior of DataFrame concatenation with empty or all-NA entries is deprecated. In a future version, this will no longer exclude empty or all-NA columns when determining the result dtypes. To retain the old behavior, exclude the relevant entries before the concat operation.\n",
      "  metrics_reg = pd.concat([metrics_reg, pd.DataFrame([temp])])\n",
      "/tmp/ipykernel_1799/2350242809.py:31: FutureWarning: The behavior of DataFrame concatenation with empty or all-NA entries is deprecated. In a future version, this will no longer exclude empty or all-NA columns when determining the result dtypes. To retain the old behavior, exclude the relevant entries before the concat operation.\n",
      "  metrics_w = pd.concat([metrics_w, pd.DataFrame([temp])])\n"
     ]
    }
   ],
   "source": [
    "baseline = pd.read_csv('prep_out/baseline_d_index.csv')\n",
    "estimate_reg = pd.read_csv('prep_out/estimated_d_index_plot_reg.csv')\n",
    "estimate_w = pd.read_csv('prep_out/estimated_d_index_plot_w.csv')\n",
    "rs = [1, 2, 3, 4, 5]\n",
    "sample_times = [0, 100, 200, 300, 400, 500, 600]\n",
    "\n",
    "metrics_reg = pd.DataFrame(columns=['filename', 'sample_time', 'r', 'type_id', 'mae', 'mdae'])\n",
    "metrics_w = pd.DataFrame(columns=['filename', 'sample_time', 'r', 'type_id', 'mae', 'mdae'])\n",
    "for file in baseline['filename'].unique():\n",
    "    bl_f = baseline[baseline['filename'] == file]\n",
    "    es_r = estimate_reg[estimate_reg['filename'] == file]\n",
    "    es_w = estimate_w[estimate_w['filename'] == file]\n",
    "    for st in sample_times:\n",
    "        es_st_r = es_r[es_r['sample_time'] == st]\n",
    "        es_st_w = es_w[es_w['sample_time'] == st]\n",
    "        bl_st = bl_f[bl_f['sample_time'] == st]\n",
    "    \n",
    "        for t in range(len(baseline['type_id'].unique())):\n",
    "            bl = bl_st[bl_st['type_id'] == t][['0', '1', '2', '3', '4', '5', '6', '7', '8']].iloc[0].values\n",
    "            es_r_t = es_st_r[es_st_r['type_id'] == t]\n",
    "            es_w_t = es_st_w[es_st_w['type_id'] == t]\n",
    "\n",
    "            for r in rs:\n",
    "                es_r_r = es_r_t[es_r_t['r'] == r][['0', '1', '2', '3', '4', '5', '6', '7', '8']].iloc[0].values\n",
    "                es_w_r = es_w_t[es_w_t['r'] == r][['0', '1', '2', '3', '4', '5', '6', '7', '8']].iloc[0].values\n",
    "\n",
    "                temp = {'filename': file, 'sample_time': st, 'r': r, 'type_id': t, 'mae': mean_absolute_error(bl, es_r_r), 'mdae': median_absolute_error(bl, es_r_r)}\n",
    "                metrics_reg = pd.concat([metrics_reg, pd.DataFrame([temp])])\n",
    "\n",
    "                temp = {'filename': file, 'sample_time': st, 'r': r, 'type_id': t, 'mae': mean_absolute_error(bl, es_w_r), 'mdae': median_absolute_error(bl, es_w_r)}\n",
    "                metrics_w = pd.concat([metrics_w, pd.DataFrame([temp])])\n",
    "\n",
    "metrics_w.to_csv('./analysis_out/d_index_plot_w.csv', index=False)\n",
    "metrics_reg.to_csv('./analysis_out/d_index_plot_reg.csv', index=False)"
   ]
  },
  {
   "cell_type": "markdown",
   "metadata": {},
   "source": [
    "## Temporal"
   ]
  },
  {
   "cell_type": "code",
   "execution_count": 30,
   "metadata": {},
   "outputs": [
    {
     "name": "stderr",
     "output_type": "stream",
     "text": [
      "/tmp/ipykernel_1799/3592374575.py:22: FutureWarning: The behavior of DataFrame concatenation with empty or all-NA entries is deprecated. In a future version, this will no longer exclude empty or all-NA columns when determining the result dtypes. To retain the old behavior, exclude the relevant entries before the concat operation.\n",
      "  metrics_reg = pd.concat([metrics_reg, pd.DataFrame([temp])])\n",
      "/tmp/ipykernel_1799/3592374575.py:24: FutureWarning: The behavior of DataFrame concatenation with empty or all-NA entries is deprecated. In a future version, this will no longer exclude empty or all-NA columns when determining the result dtypes. To retain the old behavior, exclude the relevant entries before the concat operation.\n",
      "  metrics_w = pd.concat([metrics_w, pd.DataFrame([temp])])\n"
     ]
    }
   ],
   "source": [
    "baseline = pd.read_csv('prep_out/baseline_d_index.csv')\n",
    "estimate_reg = pd.read_csv('prep_out/estimated_d_index_temporal_reg.csv')\n",
    "estimate_w = pd.read_csv('prep_out/estimated_d_index_temporal_w.csv')\n",
    "rs = [1, 2, 3, 4, 5]\n",
    "sample_times = [0, 100, 200, 300, 400, 500, 600]\n",
    "\n",
    "metrics_reg = pd.DataFrame(columns=['filename', 'r', 'type_id', 'mae', 'mdae'])\n",
    "metrics_w = pd.DataFrame(columns=['filename', 'r', 'type_id', 'mae', 'mdae'])\n",
    "for file in baseline['filename'].unique():\n",
    "    bl_f = baseline[baseline['filename'] == file]\n",
    "    es_r = estimate_reg[estimate_reg['filename'] == file]\n",
    "    es_w = estimate_w[estimate_w['filename'] == file]\n",
    "    \n",
    "    for t in range(len(baseline['type_id'].unique())):\n",
    "        bl = bl_f[bl_f['type_id'] == 0][['0', '1', '2', '3', '4', '5', '6', '7', '8']].mean().values\n",
    "        es_r_t = es_r[es_r['type_id'] == t]\n",
    "        es_w_t = es_w[es_w['type_id'] == t]\n",
    "        for r in rs:\n",
    "            es_r_r = es_r_t[es_r_t['r'] == r][['0', '1', '2', '3', '4', '5', '6', '7', '8']].mean().values\n",
    "            es_w_r = es_w_t[es_w_t['r'] == r][['0', '1', '2', '3', '4', '5', '6', '7', '8']].mean().values\n",
    "            temp = {'filename': file, 'r': r, 'type_id': t, 'mae': mean_absolute_error(bl, es_r_r), 'mdae': median_absolute_error(bl, es_r_r)}\n",
    "            metrics_reg = pd.concat([metrics_reg, pd.DataFrame([temp])])\n",
    "            temp = {'filename': file, 'r': r, 'type_id': t, 'mae': mean_absolute_error(bl, es_w_r), 'mdae': median_absolute_error(bl, es_w_r)}\n",
    "            metrics_w = pd.concat([metrics_w, pd.DataFrame([temp])])\n",
    "\n",
    "metrics_w.to_csv('./analysis_out/d_index_temporal_w.csv', index=False)\n",
    "metrics_reg.to_csv('./analysis_out/d_index_temporal_reg.csv', index=False)"
   ]
  }
 ],
 "metadata": {
  "kernelspec": {
   "display_name": ".venv",
   "language": "python",
   "name": "python3"
  },
  "language_info": {
   "codemirror_mode": {
    "name": "ipython",
    "version": 3
   },
   "file_extension": ".py",
   "mimetype": "text/x-python",
   "name": "python",
   "nbconvert_exporter": "python",
   "pygments_lexer": "ipython3",
   "version": "3.10.12"
  }
 },
 "nbformat": 4,
 "nbformat_minor": 2
}
