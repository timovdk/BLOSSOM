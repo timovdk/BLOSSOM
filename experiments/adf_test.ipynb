{
 "cells": [
  {
   "cell_type": "code",
   "execution_count": 28,
   "metadata": {},
   "outputs": [],
   "source": [
    "import pandas as pd\n",
    "from statsmodels.tsa.stattools import adfuller\n",
    "import numpy as np\n",
    "import warnings\n",
    "\n",
    "def adf_test(series):\n",
    "    \"\"\"\n",
    "    Perform ADF test and return the ADF statistic, critical t-score at 5%, and p-value.\n",
    "    Suppress warnings for divide by zero.\n",
    "    \"\"\"\n",
    "    with warnings.catch_warnings():\n",
    "        warnings.filterwarnings(\"ignore\", category=RuntimeWarning)\n",
    "        try:\n",
    "            result = adfuller(series, autolag='AIC')\n",
    "            adf_stat = result[0]  # ADF statistic\n",
    "            p_value = result[1]    # p-value\n",
    "            t_score_5_percent = result[4]['5%']  # Critical t-score at 5% significance level\n",
    "            return adf_stat, t_score_5_percent, p_value\n",
    "        except (ValueError, ZeroDivisionError, np.linalg.LinAlgError):\n",
    "            return np.nan, np.nan, 1.0  # Return NaN for ADF and t-score, 1.0 for p-value in case of errors\n",
    "\n",
    "def calculate_stability(data, window_size=10):\n",
    "    \"\"\"\n",
    "    Calculate the stability of each type using ADF test within a sliding window.\n",
    "    The stability is determined by the ADF statistic, critical t-score at 5%, and p-value.\n",
    "    \"\"\"\n",
    "    num_timesteps = len(data[0])  # Number of timesteps\n",
    "    num_types = len(data)  # Number of types\n",
    "    \n",
    "    adf_values = []\n",
    "    t_scores_5_percent = []\n",
    "    p_values = []\n",
    "    \n",
    "    for i in range(num_timesteps - window_size + 1):\n",
    "        adf_values_row = []\n",
    "        t_scores_5_percent_row = []\n",
    "        p_values_row = []\n",
    "        for type_index in range(num_types):\n",
    "            window = data[type_index][i:i + window_size]\n",
    "            adf_stat, t_score_5_percent, p_value = adf_test(window)\n",
    "            adf_values_row.append(adf_stat)\n",
    "            t_scores_5_percent_row.append(t_score_5_percent)\n",
    "            p_values_row.append(p_value)\n",
    "        adf_values.append(adf_values_row)\n",
    "        t_scores_5_percent.append(t_scores_5_percent_row)\n",
    "        p_values.append(p_values_row)\n",
    "    \n",
    "    return pd.DataFrame(adf_values), pd.DataFrame(t_scores_5_percent), pd.DataFrame(p_values)\n",
    "\n",
    "def find_most_stable_timestep(p_value_df):\n",
    "    \"\"\"\n",
    "    Determine the time step where the types are most stable.\n",
    "    We define 'most stable' as the time step where the sum of ADF p-values across all types is lowest.\n",
    "    \"\"\"\n",
    "    # Add a new column that takes the median of the p-values across all types for each timestep\n",
    "    p_value_df['total_stability'] = p_value_df.median(axis=1)\n",
    "    \n",
    "    # The index with the lowest total stability value indicates the most stable timestep\n",
    "    most_stable_index = p_value_df['total_stability'].nsmallest(5)\n",
    "    return most_stable_index"
   ]
  },
  {
   "cell_type": "code",
   "execution_count": 29,
   "metadata": {},
   "outputs": [],
   "source": [
    "filename = 'random_1'\n",
    "path = \"../blossom/hpc/outputs/\"\n",
    "df = pd.read_csv(path + filename + \".csv\")\n",
    "counts_per_type = df.value_counts(['type', 'tick'])\n",
    "\n",
    "data = [counts_per_type[t].reindex(range(len(df['tick'].unique())), fill_value=0).sort_index().to_list() for t in range(9)]"
   ]
  },
  {
   "cell_type": "code",
   "execution_count": 30,
   "metadata": {},
   "outputs": [
    {
     "name": "stdout",
     "output_type": "stream",
     "text": [
      "Index([83, 8, 129, 76, 10], dtype='int64')\n"
     ]
    }
   ],
   "source": [
    "# Calculate stability for each type\n",
    "adf_df, t_score_5_percent_df, p_value_df = calculate_stability(data, window_size=18)\n",
    "\n",
    "# Find the timestep with the most stability\n",
    "most_stable_timestep = find_most_stable_timestep(p_value_df)\n",
    "print(most_stable_timestep.index)"
   ]
  }
 ],
 "metadata": {
  "kernelspec": {
   "display_name": ".venv",
   "language": "python",
   "name": "python3"
  },
  "language_info": {
   "codemirror_mode": {
    "name": "ipython",
    "version": 3
   },
   "file_extension": ".py",
   "mimetype": "text/x-python",
   "name": "python",
   "nbconvert_exporter": "python",
   "pygments_lexer": "ipython3",
   "version": "3.10.12"
  }
 },
 "nbformat": 4,
 "nbformat_minor": 2
}
