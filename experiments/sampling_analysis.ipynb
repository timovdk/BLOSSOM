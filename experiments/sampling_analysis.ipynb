{
 "cells": [
  {
   "cell_type": "code",
   "execution_count": 1,
   "metadata": {},
   "outputs": [],
   "source": [
    "%matplotlib inline\n",
    "\n",
    "import pandas as pd\n",
    "import numpy as np\n",
    "import matplotlib.pyplot as plt\n",
    "import networkx as nx\n",
    "import scipy.stats as stats\n",
    "from itertools import product\n",
    "from concurrent.futures import ThreadPoolExecutor\n",
    "import concurrent\n",
    "\n",
    "filename = 'agent_log'\n",
    "\n",
    "x_max = 400\n",
    "y_max = 400\n",
    "z_max = 50\n",
    "\n",
    "no_of_samples = 16\n",
    "r = 10\n",
    "d = 50"
   ]
  },
  {
   "cell_type": "code",
   "execution_count": 2,
   "metadata": {},
   "outputs": [],
   "source": [
    "#df = pd.read_csv(\"old_output/\" + filename + \".csv\")\n",
    "df = pd.read_csv(\"../sosi/outputs/\" + filename + \".csv\")\n",
    "data = df[df[\"tick\"] == df[\"tick\"].max()]\n",
    "data = data.reset_index(drop=True)"
   ]
  },
  {
   "cell_type": "code",
   "execution_count": 3,
   "metadata": {},
   "outputs": [],
   "source": [
    "def systematic_regular(no_of_samples, x, y):\n",
    "    # Calculate the dimensions of the regular grid\n",
    "    rows = int(np.sqrt(no_of_samples))\n",
    "    cols = int(np.ceil(no_of_samples / rows))\n",
    "\n",
    "    # Calculate the padding to ensure points are equally spaced\n",
    "    padding_x = (x - (rows - 1)) // rows\n",
    "    padding_y = (y - (cols - 1)) // cols\n",
    "\n",
    "    # Initialize points list\n",
    "    points = []\n",
    "\n",
    "    # Select equally spaced points with padding\n",
    "    for i in range(rows):\n",
    "        for j in range(cols):\n",
    "            points.append((int((i * (padding_x + 1)) + ((padding_x + 1)/2)), int((j * (padding_y + 1) + ((padding_y + 1)/2)))))\n",
    "\n",
    "    return points[:no_of_samples]\n",
    "\n",
    "def systematic_random(no_of_samples, x, y):\n",
    "    # Calculate the dimensions of the regular grid\n",
    "    rows = int(np.sqrt(no_of_samples))\n",
    "    cols = int(np.ceil(no_of_samples / rows))\n",
    "\n",
    "    # Calculate the padding to ensure points are equally spaced\n",
    "    padding_x = (x - (rows - 1)) // rows\n",
    "    padding_y = (y - (cols - 1)) // cols\n",
    "\n",
    "    # Initialize points list\n",
    "    points = []\n",
    "    x_range = range(int(-(padding_x + 1)/2), int((padding_x + 1)/2))\n",
    "    y_range = range(int(-(padding_y + 1)/2), int((padding_y + 1)/2))\n",
    "\n",
    "    # Select equally spaced points with padding\n",
    "    for i in range(rows):\n",
    "        for j in range(cols):\n",
    "            x_offset = np.random.choice(x_range)\n",
    "            y_offset = np.random.choice(y_range)\n",
    "            points.append((int((i * (padding_x + 1)) + ((padding_x + 1)/2) + x_offset), int((j * (padding_y + 1) + ((padding_y + 1)/2)) + y_offset)))\n",
    "\n",
    "    return points[:no_of_samples]\n",
    "\n",
    "def default_random(no_of_samples, x, y):\n",
    "    # Initialize points list\n",
    "    points = []\n",
    "    x_range = range(x)\n",
    "    y_range = range(y)\n",
    "\n",
    "    # Select equally spaced points with padding\n",
    "    for _ in range(no_of_samples):\n",
    "        x_coord = np.random.choice(x_range)\n",
    "        y_coord = np.random.choice(y_range)\n",
    "        points.append((x_coord, y_coord))\n",
    "\n",
    "    return points[:no_of_samples]\n",
    "\n",
    "def wageningen_w():\n",
    "    return [(50, 50), (50, 150), (50, 250), (50, 350), (125, 150), (175, 250), (275, 150), (225, 250), (350, 50), (350, 150), (350, 250), (350, 350)]\n",
    "    "
   ]
  },
  {
   "cell_type": "code",
   "execution_count": 4,
   "metadata": {},
   "outputs": [],
   "source": [
    "def retrieve_ids_per_sample_von_neumann(points, data, r, d):\n",
    "    samples =  [ [] for _ in range(len(points)) ]\n",
    "    for ind, row in data.iterrows():\n",
    "        for index, point in enumerate(points):\n",
    "            x1, y1 = point\n",
    "            x2 = row.x\n",
    "            y2 = row.y\n",
    "            z2 = row.z\n",
    "\n",
    "            if (z2 <= d) and ((abs(x1 - x2) + abs(y1 - y2)) <= r):\n",
    "                samples[index].append(ind)\n",
    "    return samples\n",
    "\n",
    "def retrieve_ids_per_sample_chebyshev(points, data, r, d):\n",
    "    samples =  [ [] for _ in range(len(points)) ]\n",
    "    for ind, row in data.iterrows():\n",
    "        for index, point in enumerate(points):\n",
    "            x1, y1 = point\n",
    "            x2 = row.x\n",
    "            y2 = row.y\n",
    "            z2 = row.z\n",
    "\n",
    "            # Calculate the Chebyshev distance between point1 and point2\n",
    "            chebyshev_distance = max(abs(x1 - x2), abs(y1 - y2))\n",
    "\n",
    "            # Check if point2 lies within the Von Neumann neighborhood of point1 within range r\n",
    "            if (z2<=d) and (chebyshev_distance <= r):\n",
    "                samples[index].append(ind)\n",
    "    return samples "
   ]
  },
  {
   "cell_type": "code",
   "execution_count": 5,
   "metadata": {},
   "outputs": [
    {
     "name": "stdout",
     "output_type": "stream",
     "text": [
      "Selected points: [(50, 50), (50, 150), (50, 250), (50, 350), (125, 150), (175, 250), (275, 150), (225, 250), (350, 50), (350, 150), (350, 250), (350, 350)]\n",
      "Simulated samples: [[9800, 10001, 10393, 11674, 11987], [], [16311, 18295, 18740, 18907, 19501], [16752, 17737, 20066, 20323], [], [12723, 13614, 17423, 17766, 19382, 19664], [], [28939, 29765], [22555, 22656, 24081, 24109], [20564], [25431, 25500, 25914, 26291, 27795, 27878, 28035], []]\n"
     ]
    },
    {
     "data": {
      "image/png": "[encoded data removed]",
      "text/plain": [
       "<Figure size 600x600 with 1 Axes>"
      ]
     },
     "metadata": {},
     "output_type": "display_data"
    }
   ],
   "source": [
    "x_max = 400\n",
    "y_max = 400\n",
    "z_max = 50\n",
    "\n",
    "no_of_samples = 16\n",
    "r = 3\n",
    "d = 50\n",
    "\n",
    "#selected_points = systematic_regular(no_of_samples, x_max, y_max)\n",
    "#selected_points = systematic_random(no_of_samples, x_max, y_max)\n",
    "#selected_points = default_random(no_of_samples, x_max, y_max)\n",
    "selected_points = wageningen_w()\n",
    "\n",
    "\n",
    "samples = retrieve_ids_per_sample_von_neumann(selected_points, data, r, d)\n",
    "\n",
    "print(\"Selected points:\", selected_points)\n",
    "print(\"Simulated samples:\", samples)\n",
    "\n",
    "# Plotting the points in a grid\n",
    "plt.figure(figsize=(6, 6))\n",
    "plt.plot([0, x_max, x_max, 0, 0], [0, 0, y_max, y_max, 0], 'k-')  # Plot grid boundaries\n",
    "for ind, point in enumerate(selected_points):\n",
    "    plt.plot(point[0], point[1], 'bo')#, markersize=(0.1 * len(samples[ind])))  # Plot selected points\n",
    "plt.xlabel('Width')\n",
    "plt.ylabel('Height')\n",
    "plt.title('Selected Points in Grid')\n",
    "plt.grid(True)\n",
    "plt.axis('equal')\n",
    "plt.show()"
   ]
  },
  {
   "cell_type": "code",
   "execution_count": 6,
   "metadata": {},
   "outputs": [],
   "source": [
    "sample_site_counts = []\n",
    "for sample_site in samples:\n",
    "    df2 = data.iloc[sample_site]\n",
    "    count = df2['type'].value_counts().reindex(range(len(df[\"type\"].unique())), fill_value=0)\n",
    "    sample_site_counts.append([val for _, val in count.items()])\n"
   ]
  },
  {
   "cell_type": "code",
   "execution_count": 7,
   "metadata": {},
   "outputs": [],
   "source": [
    "def pearson_cooccurrence(abundance_data, threshold=0):\n",
    "    # Initialize a graph\n",
    "    G = nx.Graph()\n",
    "    G.add_nodes_from(range(12))\n",
    "\n",
    "    # Calculate the Pearson correlation coefficient matrix\n",
    "    pearson_matrix = np.corrcoef(abundance_data, rowvar=False)\n",
    "    \n",
    "    pearson_matrix[np.isnan(pearson_matrix)] = 0\n",
    "\n",
    "    # Get the number of entities\n",
    "    num_entities = len(abundance_data[0])\n",
    "\n",
    "    # Iterate through the Pearson correlation matrix to create co-occurrence edges\n",
    "    for i in range(num_entities):\n",
    "        for j in range(i + 1, num_entities):\n",
    "            # Check if the correlation coefficient exceeds the threshold\n",
    "            if (pearson_matrix[i][j] > threshold):\n",
    "                G.add_edge(i, j, weight=pearson_matrix[i][j])\n",
    "\n",
    "    return G, pearson_matrix\n",
    "\n",
    "def spearman_cooccurrence(abundance_data, threshold=0):\n",
    "    # Initialize a graph\n",
    "    G = nx.Graph()\n",
    "    G.add_nodes_from(range(12))\n",
    "    \n",
    "    # Calculate the Pearson correlation coefficient matrix\n",
    "    spearman_matrix = stats.spearmanr(abundance_data).statistic\n",
    "    spearman_matrix[np.isnan(spearman_matrix)] = 0\n",
    "    # Get the number of entities\n",
    "    num_entities = len(abundance_data[0])\n",
    "\n",
    "    # Iterate through the Pearson correlation matrix to create co-occurrence edges\n",
    "    for i in range(num_entities):\n",
    "        for j in range(i + 1, num_entities):\n",
    "            # Check if the correlation coefficient exceeds the threshold\n",
    "            if (spearman_matrix[i][j] > threshold):\n",
    "                G.add_edge(i, j, weight=spearman_matrix[i][j])\n",
    "\n",
    "    return G, spearman_matrix"
   ]
  },
  {
   "cell_type": "code",
   "execution_count": 8,
   "metadata": {},
   "outputs": [
    {
     "name": "stderr",
     "output_type": "stream",
     "text": [
      "/home/timovdk/soil_sim/.venv/lib/python3.10/site-packages/numpy/lib/function_base.py:2853: RuntimeWarning: invalid value encountered in divide\n",
      "  c /= stddev[:, None]\n",
      "/home/timovdk/soil_sim/.venv/lib/python3.10/site-packages/numpy/lib/function_base.py:2854: RuntimeWarning: invalid value encountered in divide\n",
      "  c /= stddev[None, :]\n"
     ]
    },
    {
     "data": {
      "image/png": "[encoded data removed]",
      "text/plain": [
       "<Figure size 640x480 with 1 Axes>"
      ]
     },
     "metadata": {},
     "output_type": "display_data"
    }
   ],
   "source": [
    "pearson_net, pearson = pearson_cooccurrence(sample_site_counts, 0)\n",
    "\n",
    "nx.draw(pearson_net, with_labels=True)"
   ]
  },
  {
   "cell_type": "code",
   "execution_count": 9,
   "metadata": {},
   "outputs": [],
   "source": [
    "def manhattan_distance(point1, point2):\n",
    "    \"\"\"\n",
    "    Computes the Manhattan distance between two points in 3D space.\n",
    "    \"\"\"\n",
    "    return np.abs(point1[0] - point2[0]) + np.abs(point1[1] - point2[1]) + np.abs(point1[2] - point2[2])\n",
    "\n",
    "\n",
    "def calculate_counts(entity_type, entity_instances, entities):\n",
    "    \"\"\"\n",
    "    Calculate the counts of other types in the Von Neumann neighborhood for a given type.\n",
    "    \"\"\"\n",
    "    counts = np.zeros(12, dtype=int)\n",
    "    for other_type, other_instances in entities.items():\n",
    "        if entity_type != other_type:\n",
    "            for entity_instance, other_instance in product(entity_instances, other_instances):\n",
    "                if manhattan_distance(entity_instance, other_instance) <= 1:\n",
    "                    counts[other_type] += 1\n",
    "    return counts\n",
    "\n",
    "def count_von_neumann_neighborhood_parallel(df):\n",
    "    \"\"\"\n",
    "    Counts the occurrences of each type in the 3D Von Neumann neighborhood of each type in parallel.\n",
    "    \"\"\"\n",
    "    entities = df.groupby('type').apply(lambda x: list(zip(x['x'], x['y'], x['z'])), include_groups=False).to_dict()\n",
    "\n",
    "    with ThreadPoolExecutor() as executor:\n",
    "        future_to_type = {executor.submit(calculate_counts, entity_type, entity_instances, entities): entity_type\n",
    "                          for entity_type, entity_instances in entities.items()}\n",
    "        neighborhood_counts = np.zeros((12, 12), dtype=int)\n",
    "        for future in concurrent.futures.as_completed(future_to_type):\n",
    "            entity_type = future_to_type[future]\n",
    "            counts = future.result()\n",
    "            neighborhood_counts[entity_type] = counts\n",
    "    \n",
    "    return neighborhood_counts"
   ]
  },
  {
   "cell_type": "code",
   "execution_count": 10,
   "metadata": {},
   "outputs": [
    {
     "name": "stderr",
     "output_type": "stream",
     "text": [
      "/home/timovdk/soil_sim/.venv/lib/python3.10/site-packages/numpy/lib/function_base.py:2853: RuntimeWarning: invalid value encountered in divide\n",
      "  c /= stddev[:, None]\n",
      "/home/timovdk/soil_sim/.venv/lib/python3.10/site-packages/numpy/lib/function_base.py:2854: RuntimeWarning: invalid value encountered in divide\n",
      "  c /= stddev[None, :]\n"
     ]
    },
    {
     "data": {
      "image/png": "[encoded data removed]",
      "text/plain": [
       "<Figure size 640x480 with 1 Axes>"
      ]
     },
     "metadata": {},
     "output_type": "display_data"
    }
   ],
   "source": [
    "neighborhood_counts = count_von_neumann_neighborhood_parallel(data)\n",
    "\n",
    "np.save('counts_per_type_hpc_2_' + filename + '.npy', neighborhood_counts)\n",
    "\n",
    "#neighborhood_counts = np.load('old_output/counts_per_type_' + filename + '.npy')\n",
    "\n",
    "gt_pearson_net, gt_pearson = pearson_cooccurrence(neighborhood_counts, 0)\n",
    "\n",
    "nx.draw(gt_pearson_net, with_labels=True)"
   ]
  },
  {
   "cell_type": "code",
   "execution_count": 11,
   "metadata": {},
   "outputs": [],
   "source": [
    "def calculate_metrics(matrix_actual, matrix_predicted, threshold):\n",
    "    true_positives = 0\n",
    "    true_negatives = 0\n",
    "    false_positives = 0\n",
    "    false_negatives = 0\n",
    "\n",
    "    for i in range(len(matrix_actual)):\n",
    "        for j in range(len(matrix_actual[0])):\n",
    "            if matrix_actual[i][j] >= threshold and matrix_predicted[i][j] >= threshold:\n",
    "                true_positives += 1\n",
    "            elif matrix_actual[i][j] < threshold and matrix_predicted[i][j] < threshold:\n",
    "                true_negatives += 1\n",
    "            elif matrix_actual[i][j] < threshold and matrix_predicted[i][j] >= threshold:\n",
    "                false_positives += 1\n",
    "            elif matrix_actual[i][j] >= threshold and matrix_predicted[i][j] < threshold:\n",
    "                false_negatives += 1\n",
    "\n",
    "    accuracy = (true_positives + true_negatives) / (true_positives + true_negatives + false_positives + false_negatives)\n",
    "    \n",
    "    if true_positives + false_positives == 0:\n",
    "        precision = 0\n",
    "    else:\n",
    "        precision = true_positives / (true_positives + false_positives)\n",
    "\n",
    "    if true_positives + false_negatives == 0:\n",
    "        recall = 0\n",
    "    else:\n",
    "        recall = true_positives / (true_positives + false_negatives)\n",
    "\n",
    "    return accuracy, precision, recall"
   ]
  },
  {
   "cell_type": "code",
   "execution_count": 12,
   "metadata": {},
   "outputs": [
    {
     "data": {
      "text/plain": [
       "(0.6296296296296297, 0.2, 0.7777777777777778)"
      ]
     },
     "execution_count": 12,
     "metadata": {},
     "output_type": "execute_result"
    }
   ],
   "source": [
    "calculate_metrics(pearson, gt_pearson, 0.25)"
   ]
  },
  {
   "cell_type": "code",
   "execution_count": 13,
   "metadata": {},
   "outputs": [],
   "source": [
    "import json\n",
    "# 0.2\n",
    "#G = nx.node_link_graph(json.loads('{\"directed\": false, \"multigraph\": false, \"graph\": {}, \"nodes\": [{\"id\": 0}, {\"id\": 1}, {\"id\": 2}, {\"id\": 3}, {\"id\": 4}, {\"id\": 5}, {\"id\": 6}, {\"id\": 7}, {\"id\": 8}, {\"id\": 9}, {\"id\": 10}, {\"id\": 11}], \"links\": [{\"weight\": 0.5826312884833548, \"source\": 0, \"target\": 4}, {\"weight\": 0.6148356427539814, \"source\": 0, \"target\": 7}, {\"weight\": 0.7306576990838498, \"source\": 1, \"target\": 2}, {\"weight\": 0.9003900420385831, \"source\": 1, \"target\": 6}, {\"weight\": -0.638579754693958, \"source\": 3, \"target\": 4}, {\"weight\": -0.27796656418881527, \"source\": 3, \"target\": 9}, {\"weight\": 0.46123412849139406, \"source\": 4, \"target\": 5}, {\"weight\": 0.6068144174853789, \"source\": 5, \"target\": 9}, {\"weight\": 0.5112680070896285, \"source\": 5, \"target\": 10}, {\"weight\": 0.42525572507758125, \"source\": 6, \"target\": 10}]}'))\n",
    "# 0.25\n",
    "#G = nx.node_link_graph(json.loads('{\"directed\": false, \"multigraph\": false, \"graph\": {}, \"nodes\": [{\"id\": 0}, {\"id\": 1}, {\"id\": 2}, {\"id\": 3}, {\"id\": 4}, {\"id\": 5}, {\"id\": 6}, {\"id\": 7}, {\"id\": 8}, {\"id\": 9}, {\"id\": 10}, {\"id\": 11}], \"links\": [{\"weight\": -0.32406617852307235, \"source\": 0, \"target\": 2}, {\"weight\": 0.7674507370630747, \"source\": 0, \"target\": 11}, {\"weight\": -0.3678157801657671, \"source\": 1, \"target\": 5}, {\"weight\": -0.6113084319958945, \"source\": 1, \"target\": 10}, {\"weight\": 0.6735930396533623, \"source\": 2, \"target\": 3}, {\"weight\": 0.4957544613997652, \"source\": 3, \"target\": 4}, {\"weight\": -0.5093165937801768, \"source\": 4, \"target\": 7}, {\"weight\": -0.24377914772112863, \"source\": 4, \"target\": 8}, {\"weight\": -0.3891347231209051, \"source\": 5, \"target\": 6}, {\"weight\": -0.3671607233883024, \"source\": 5, \"target\": 8}, {\"weight\": 0.5827915799403651, \"source\": 6, \"target\": 7}, {\"weight\": -0.3854345909962471, \"source\": 8, \"target\": 11}, {\"weight\": 0.6131581562960552, \"source\": 9, \"target\": 10}]}'))\n",
    "# 0.3\n",
    "#G = nx.node_link_graph(json.loads('{\"directed\": false, \"multigraph\": false, \"graph\": {}, \"nodes\": [{\"id\": 0}, {\"id\": 1}, {\"id\": 2}, {\"id\": 3}, {\"id\": 4}, {\"id\": 5}, {\"id\": 6}, {\"id\": 7}, {\"id\": 8}, {\"id\": 9}, {\"id\": 10}, {\"id\": 11}], \"links\": [{\"weight\": -0.4109884842549893, \"source\": 0, \"target\": 2}, {\"weight\": -0.6387307685616226, \"source\": 0, \"target\": 3}, {\"weight\": -0.4188281788431216, \"source\": 0, \"target\": 4}, {\"weight\": 0.550937882540557, \"source\": 0, \"target\": 8}, {\"weight\": -0.40628807899863245, \"source\": 0, \"target\": 10}, {\"weight\": 0.25926601707127184, \"source\": 1, \"target\": 6}, {\"weight\": 0.20252983511392558, \"source\": 1, \"target\": 7}, {\"weight\": 0.6881023623520206, \"source\": 1, \"target\": 8}, {\"weight\": 0.37082803493924726, \"source\": 2, \"target\": 3}, {\"weight\": 0.7016394600767247, \"source\": 2, \"target\": 10}, {\"weight\": -0.31493895846576025, \"source\": 2, \"target\": 11}, {\"weight\": -0.2946994694742524, \"source\": 3, \"target\": 6}, {\"weight\": 0.5176903249517476, \"source\": 3, \"target\": 7}, {\"weight\": 0.62384974810985, \"source\": 3, \"target\": 8}, {\"weight\": -0.4114323639984864, \"source\": 3, \"target\": 9}, {\"weight\": 0.615612160587463, \"source\": 3, \"target\": 10}, {\"weight\": -0.6300841917325636, \"source\": 5, \"target\": 7}, {\"weight\": 0.5803717257664209, \"source\": 5, \"target\": 9}, {\"weight\": -0.6536043082798919, \"source\": 5, \"target\": 10}, {\"weight\": 0.38945650069317855, \"source\": 6, \"target\": 7}, {\"weight\": 0.4669954701860956, \"source\": 6, \"target\": 10}, {\"weight\": -0.5538097026492979, \"source\": 7, \"target\": 10}, {\"weight\": 0.5096453193626802, \"source\": 8, \"target\": 10}, {\"weight\": -0.5742955096424558, \"source\": 8, \"target\": 11}, {\"weight\": 0.4856299831923772, \"source\": 9, \"target\": 10}, {\"weight\": 0.4589024757481488, \"source\": 10, \"target\": 11}]}'))\n",
    "# 0.35\n",
    "#G = nx.node_link_graph(json.loads('{\"directed\": false, \"multigraph\": false, \"graph\": {}, \"nodes\": [{\"id\": 0}, {\"id\": 1}, {\"id\": 2}, {\"id\": 3}, {\"id\": 4}, {\"id\": 5}, {\"id\": 6}, {\"id\": 7}, {\"id\": 8}, {\"id\": 9}, {\"id\": 10}, {\"id\": 11}], \"links\": [{\"weight\": 0.38220686631476014, \"source\": 0, \"target\": 1}, {\"weight\": 0.7490490482009178, \"source\": 0, \"target\": 5}, {\"weight\": 0.1520742247986952, \"source\": 0, \"target\": 8}, {\"weight\": 0.7083270351946898, \"source\": 0, \"target\": 9}, {\"weight\": 0.4302132213199809, \"source\": 1, \"target\": 2}, {\"weight\": -0.46552810696121083, \"source\": 1, \"target\": 4}, {\"weight\": 0.7107379481812048, \"source\": 1, \"target\": 5}, {\"weight\": 0.46335905625682455, \"source\": 1, \"target\": 7}, {\"weight\": -0.5881910944879569, \"source\": 1, \"target\": 9}, {\"weight\": 0.42629356279619746, \"source\": 1, \"target\": 10}, {\"weight\": 0.13414043645662876, \"source\": 1, \"target\": 11}, {\"weight\": 0.5715498524046089, \"source\": 2, \"target\": 5}, {\"weight\": 0.30946152298663476, \"source\": 2, \"target\": 7}, {\"weight\": -0.356143299050788, \"source\": 2, \"target\": 9}, {\"weight\": -0.5175451359245306, \"source\": 3, \"target\": 7}, {\"weight\": 0.5083443834127034, \"source\": 3, \"target\": 8}, {\"weight\": 0.45471613917211207, \"source\": 3, \"target\": 9}, {\"weight\": 0.4632758912811652, \"source\": 3, \"target\": 10}, {\"weight\": -0.48280639273463444, \"source\": 4, \"target\": 7}, {\"weight\": 0.7451398552919715, \"source\": 4, \"target\": 10}, {\"weight\": 0.49268289811728977, \"source\": 5, \"target\": 6}, {\"weight\": 0.6322616541314501, \"source\": 6, \"target\": 9}, {\"weight\": -0.24071603333833358, \"source\": 6, \"target\": 11}, {\"weight\": 0.822695013910646, \"source\": 8, \"target\": 9}, {\"weight\": 0.35537844211174396, \"source\": 8, \"target\": 10}, {\"weight\": 0.515719298652411, \"source\": 8, \"target\": 11}]}'))\n",
    "# 0.4\n",
    "#G = nx.node_link_graph(json.loads('{\"directed\": false, \"multigraph\": false, \"graph\": {}, \"nodes\": [{\"id\": 0}, {\"id\": 1}, {\"id\": 2}, {\"id\": 3}, {\"id\": 4}, {\"id\": 5}, {\"id\": 6}, {\"id\": 7}, {\"id\": 8}, {\"id\": 9}, {\"id\": 10}, {\"id\": 11}], \"links\": [{\"weight\": 0.2698506643939751, \"source\": 0, \"target\": 3}, {\"weight\": 0.26149185508711725, \"source\": 0, \"target\": 6}, {\"weight\": 0.2860880563764686, \"source\": 0, \"target\": 7}, {\"weight\": 0.6547509429557123, \"source\": 0, \"target\": 9}, {\"weight\": 0.27449707654083005, \"source\": 0, \"target\": 10}, {\"weight\": 0.7402741330838627, \"source\": 1, \"target\": 8}, {\"weight\": -0.45657385977103343, \"source\": 2, \"target\": 4}, {\"weight\": 0.673210250495398, \"source\": 2, \"target\": 6}, {\"weight\": -0.38897142381837674, \"source\": 2, \"target\": 7}, {\"weight\": 0.3538382381550699, \"source\": 2, \"target\": 9}, {\"weight\": -0.6646383930931095, \"source\": 3, \"target\": 6}, {\"weight\": 0.1405268149947566, \"source\": 3, \"target\": 7}, {\"weight\": 0.5195907200580548, \"source\": 3, \"target\": 8}, {\"weight\": -0.77205162840095, \"source\": 3, \"target\": 10}, {\"weight\": 0.7114129949740251, \"source\": 4, \"target\": 9}, {\"weight\": 0.7143922567679574, \"source\": 4, \"target\": 11}, {\"weight\": 0.5229632043223987, \"source\": 5, \"target\": 6}, {\"weight\": 0.4427794069071465, \"source\": 5, \"target\": 8}, {\"weight\": -0.700140920944715, \"source\": 5, \"target\": 10}, {\"weight\": 0.46944359932911567, \"source\": 5, \"target\": 11}, {\"weight\": 0.40326606552354244, \"source\": 6, \"target\": 8}, {\"weight\": -0.21953852025037313, \"source\": 6, \"target\": 10}, {\"weight\": 0.5859665947274469, \"source\": 7, \"target\": 10}, {\"weight\": 0.5649850215916419, \"source\": 8, \"target\": 10}, {\"weight\": 0.18850493793700662, \"source\": 9, \"target\": 10}, {\"weight\": -0.3637739388347516, \"source\": 9, \"target\": 11}, {\"weight\": -0.6090076431476692, \"source\": 10, \"target\": 11}]}'))\n",
    "# 0.45\n",
    "#G = nx.node_link_graph(json.loads('{\"directed\": false, \"multigraph\": false, \"graph\": {}, \"nodes\": [{\"id\": 0}, {\"id\": 1}, {\"id\": 2}, {\"id\": 3}, {\"id\": 4}, {\"id\": 5}, {\"id\": 6}, {\"id\": 7}, {\"id\": 8}, {\"id\": 9}, {\"id\": 10}, {\"id\": 11}], \"links\": [{\"weight\": -0.9525434918608933, \"source\": 0, \"target\": 2}, {\"weight\": 0.34135063146193817, \"source\": 0, \"target\": 4}, {\"weight\": 0.6985498954615583, \"source\": 0, \"target\": 5}, {\"weight\": 0.5611468001262873, \"source\": 0, \"target\": 8}, {\"weight\": 0.61030398071415, \"source\": 0, \"target\": 9}, {\"weight\": 0.6508651941359203, \"source\": 0, \"target\": 11}, {\"weight\": 0.25331761923988183, \"source\": 1, \"target\": 2}, {\"weight\": 0.15962615056193058, \"source\": 1, \"target\": 3}, {\"weight\": -0.7482658001567897, \"source\": 1, \"target\": 4}, {\"weight\": 0.8065385024588552, \"source\": 1, \"target\": 7}, {\"weight\": 0.2585637901787529, \"source\": 1, \"target\": 9}, {\"weight\": 0.5395504418957929, \"source\": 1, \"target\": 10}, {\"weight\": 0.6837555725189284, \"source\": 2, \"target\": 3}, {\"weight\": -0.5298174889454859, \"source\": 2, \"target\": 7}, {\"weight\": 0.6418705642657851, \"source\": 2, \"target\": 11}, {\"weight\": 0.5488264277535725, \"source\": 3, \"target\": 4}, {\"weight\": -0.2368117252422124, \"source\": 3, \"target\": 5}, {\"weight\": 0.4377661118672311, \"source\": 3, \"target\": 7}, {\"weight\": -0.3289694319737771, \"source\": 3, \"target\": 8}, {\"weight\": 0.3095136907173496, \"source\": 3, \"target\": 9}, {\"weight\": -0.5006272603995723, \"source\": 3, \"target\": 11}, {\"weight\": 0.44962592851860256, \"source\": 4, \"target\": 6}, {\"weight\": 0.8658122540148401, \"source\": 4, \"target\": 7}, {\"weight\": 0.7866262613203615, \"source\": 4, \"target\": 9}, {\"weight\": 0.5804905645396718, \"source\": 6, \"target\": 11}, {\"weight\": 0.7026309592762541, \"source\": 7, \"target\": 10}]}'))\n",
    "# 0.5\n",
    "G = nx.node_link_graph(json.loads('{\"directed\": false, \"multigraph\": false, \"graph\": {}, \"nodes\": [{\"id\": 0}, {\"id\": 1}, {\"id\": 2}, {\"id\": 3}, {\"id\": 4}, {\"id\": 5}, {\"id\": 6}, {\"id\": 7}, {\"id\": 8}], \"links\": [{\"weight\": 0.5826312884833548, \"source\": 0, \"target\": 4}, {\"weight\": 0.6148356427539814, \"source\": 0, \"target\": 5}, {\"weight\": 0.7306576990838498, \"source\": 0, \"target\": 8}, {\"weight\": 0.9003900420385831, \"source\": 1, \"target\": 4}, {\"weight\": -0.638579754693958, \"source\": 1, \"target\": 5}, {\"weight\": -0.27796656418881527, \"source\": 1, \"target\": 6}, {\"weight\": 0.46123412849139406, \"source\": 1, \"target\": 7}, {\"weight\": 0.6068144174853789, \"source\": 2, \"target\": 3}, {\"weight\": 0.5112680070896285, \"source\": 2, \"target\": 4}, {\"weight\": 0.42525572507758125, \"source\": 2, \"target\": 5}, {\"weight\": 0.4601658168250095, \"source\": 2, \"target\": 8}, {\"weight\": 0.4943223393958548, \"source\": 3, \"target\": 5}, {\"weight\": -0.14671525430854027, \"source\": 4, \"target\": 7}, {\"weight\": -0.4038872117981791, \"source\": 5, \"target\": 6}, {\"weight\": 0.5176903249517476, \"source\": 5, \"target\": 7}, {\"weight\": 0.7534244447856359, \"source\": 6, \"target\": 7}, {\"weight\": 0.5244768288592718, \"source\": 7, \"target\": 8}]}'))\n",
    "\n",
    "\n",
    "A = nx.adjacency_matrix(G).todense()"
   ]
  },
  {
   "cell_type": "code",
   "execution_count": 14,
   "metadata": {},
   "outputs": [
    {
     "data": {
      "text/plain": [
       "12"
      ]
     },
     "execution_count": 14,
     "metadata": {},
     "output_type": "execute_result"
    }
   ],
   "source": [
    "len(gt_pearson_net.nodes())"
   ]
  },
  {
   "cell_type": "code",
   "execution_count": 15,
   "metadata": {},
   "outputs": [
    {
     "ename": "NetworkXError",
     "evalue": "Node sets of graphs not equal",
     "output_type": "error",
     "traceback": [
      "\u001b[0;31m---------------------------------------------------------------------------\u001b[0m",
      "\u001b[0;31mNetworkXError\u001b[0m                             Traceback (most recent call last)",
      "Cell \u001b[0;32mIn[15], line 1\u001b[0m\n\u001b[0;32m----> 1\u001b[0m G_diff \u001b[38;5;241m=\u001b[39m \u001b[43mnx\u001b[49m\u001b[38;5;241;43m.\u001b[39;49m\u001b[43mdifference\u001b[49m\u001b[43m(\u001b[49m\u001b[43mG\u001b[49m\u001b[43m,\u001b[49m\u001b[43m \u001b[49m\u001b[43mgt_pearson_net\u001b[49m\u001b[43m)\u001b[49m\n\u001b[1;32m      2\u001b[0m nx\u001b[38;5;241m.\u001b[39mdraw(G_diff, with_labels\u001b[38;5;241m=\u001b[39m\u001b[38;5;28;01mTrue\u001b[39;00m)\n",
      "File \u001b[0;32m~/soil_sim/.venv/lib/python3.10/site-packages/networkx/utils/backends.py:412\u001b[0m, in \u001b[0;36m_dispatch.__call__\u001b[0;34m(self, backend, *args, **kwargs)\u001b[0m\n\u001b[1;32m    409\u001b[0m \u001b[38;5;28;01mdef\u001b[39;00m \u001b[38;5;21m__call__\u001b[39m(\u001b[38;5;28mself\u001b[39m, \u001b[38;5;241m/\u001b[39m, \u001b[38;5;241m*\u001b[39margs, backend\u001b[38;5;241m=\u001b[39m\u001b[38;5;28;01mNone\u001b[39;00m, \u001b[38;5;241m*\u001b[39m\u001b[38;5;241m*\u001b[39mkwargs):\n\u001b[1;32m    410\u001b[0m     \u001b[38;5;28;01mif\u001b[39;00m \u001b[38;5;129;01mnot\u001b[39;00m backends:\n\u001b[1;32m    411\u001b[0m         \u001b[38;5;66;03m# Fast path if no backends are installed\u001b[39;00m\n\u001b[0;32m--> 412\u001b[0m         \u001b[38;5;28;01mreturn\u001b[39;00m \u001b[38;5;28;43mself\u001b[39;49m\u001b[38;5;241;43m.\u001b[39;49m\u001b[43morig_func\u001b[49m\u001b[43m(\u001b[49m\u001b[38;5;241;43m*\u001b[39;49m\u001b[43margs\u001b[49m\u001b[43m,\u001b[49m\u001b[43m \u001b[49m\u001b[38;5;241;43m*\u001b[39;49m\u001b[38;5;241;43m*\u001b[39;49m\u001b[43mkwargs\u001b[49m\u001b[43m)\u001b[49m\n\u001b[1;32m    414\u001b[0m     \u001b[38;5;66;03m# Use `backend_name` in this function instead of `backend`\u001b[39;00m\n\u001b[1;32m    415\u001b[0m     backend_name \u001b[38;5;241m=\u001b[39m backend\n",
      "File \u001b[0;32m~/soil_sim/.venv/lib/python3.10/site-packages/networkx/algorithms/operators/binary.py:216\u001b[0m, in \u001b[0;36mdifference\u001b[0;34m(G, H)\u001b[0m\n\u001b[1;32m    213\u001b[0m R \u001b[38;5;241m=\u001b[39m nx\u001b[38;5;241m.\u001b[39mcreate_empty_copy(G)\n\u001b[1;32m    215\u001b[0m \u001b[38;5;28;01mif\u001b[39;00m \u001b[38;5;28mset\u001b[39m(G) \u001b[38;5;241m!=\u001b[39m \u001b[38;5;28mset\u001b[39m(H):\n\u001b[0;32m--> 216\u001b[0m     \u001b[38;5;28;01mraise\u001b[39;00m nx\u001b[38;5;241m.\u001b[39mNetworkXError(\u001b[38;5;124m\"\u001b[39m\u001b[38;5;124mNode sets of graphs not equal\u001b[39m\u001b[38;5;124m\"\u001b[39m)\n\u001b[1;32m    218\u001b[0m \u001b[38;5;28;01mif\u001b[39;00m G\u001b[38;5;241m.\u001b[39mis_multigraph():\n\u001b[1;32m    219\u001b[0m     edges \u001b[38;5;241m=\u001b[39m G\u001b[38;5;241m.\u001b[39medges(keys\u001b[38;5;241m=\u001b[39m\u001b[38;5;28;01mTrue\u001b[39;00m)\n",
      "\u001b[0;31mNetworkXError\u001b[0m: Node sets of graphs not equal"
     ]
    }
   ],
   "source": [
    "G_diff = nx.difference(G, gt_pearson_net)\n",
    "nx.draw(G_diff, with_labels=True)"
   ]
  },
  {
   "cell_type": "code",
   "execution_count": null,
   "metadata": {},
   "outputs": [
    {
     "data": {
      "text/plain": [
       "(0.8125, 0.0, 0.0)"
      ]
     },
     "execution_count": 327,
     "metadata": {},
     "output_type": "execute_result"
    }
   ],
   "source": [
    "calculate_metrics(A, gt_pearson, 0.25)"
   ]
  },
  {
   "cell_type": "code",
   "execution_count": null,
   "metadata": {},
   "outputs": [],
   "source": [
    "for i in range(len(pearson)):\n",
    "    pearson[i][i] = gt_pearson[i][i]"
   ]
  },
  {
   "cell_type": "code",
   "execution_count": null,
   "metadata": {},
   "outputs": [
    {
     "name": "stdout",
     "output_type": "stream",
     "text": [
      "\n",
      "Ground truth <-> Sampling\n"
     ]
    },
    {
     "ename": "ValueError",
     "evalue": "Found input variables with inconsistent numbers of samples: [12, 9]",
     "output_type": "error",
     "traceback": [
      "\u001b[0;31m---------------------------------------------------------------------------\u001b[0m",
      "\u001b[0;31mValueError\u001b[0m                                Traceback (most recent call last)",
      "Cell \u001b[0;32mIn[17], line 11\u001b[0m\n\u001b[1;32m      3\u001b[0m \u001b[38;5;66;03m#print(\"Initial co-occurrence <-> Ground truth\")\u001b[39;00m\n\u001b[1;32m      4\u001b[0m \u001b[38;5;66;03m#print(\"MAE: \", metrics.mean_absolute_error(A, gt_pearson))\u001b[39;00m\n\u001b[1;32m      5\u001b[0m \u001b[38;5;66;03m#print(\"MaxE: \", metrics.max_error(A.flatten(), gt_pearson.flatten()))\u001b[39;00m\n\u001b[1;32m      6\u001b[0m \u001b[38;5;66;03m#print(\"MdAE: \", metrics.median_absolute_error(A, gt_pearson))\u001b[39;00m\n\u001b[1;32m      7\u001b[0m \u001b[38;5;66;03m#print(\"R2: \", metrics.r2_score(A, gt_pearson))\u001b[39;00m\n\u001b[1;32m      8\u001b[0m \u001b[38;5;66;03m#print(\"EV: \", metrics.explained_variance_score(A, gt_pearson))\u001b[39;00m\n\u001b[1;32m     10\u001b[0m \u001b[38;5;28mprint\u001b[39m(\u001b[38;5;124m\"\u001b[39m\u001b[38;5;130;01m\\n\u001b[39;00m\u001b[38;5;124mGround truth <-> Sampling\u001b[39m\u001b[38;5;124m\"\u001b[39m)\n\u001b[0;32m---> 11\u001b[0m \u001b[38;5;28mprint\u001b[39m(\u001b[38;5;124m\"\u001b[39m\u001b[38;5;124mMAE: \u001b[39m\u001b[38;5;124m\"\u001b[39m, \u001b[43mmetrics\u001b[49m\u001b[38;5;241;43m.\u001b[39;49m\u001b[43mmean_absolute_error\u001b[49m\u001b[43m(\u001b[49m\u001b[43mgt_pearson\u001b[49m\u001b[43m,\u001b[49m\u001b[43m \u001b[49m\u001b[43mpearson\u001b[49m\u001b[43m)\u001b[49m)\n\u001b[1;32m     12\u001b[0m \u001b[38;5;28mprint\u001b[39m(\u001b[38;5;124m\"\u001b[39m\u001b[38;5;124mMaxE: \u001b[39m\u001b[38;5;124m\"\u001b[39m, metrics\u001b[38;5;241m.\u001b[39mmax_error(gt_pearson\u001b[38;5;241m.\u001b[39mflatten(), pearson\u001b[38;5;241m.\u001b[39mflatten()))\n\u001b[1;32m     13\u001b[0m \u001b[38;5;28mprint\u001b[39m(\u001b[38;5;124m\"\u001b[39m\u001b[38;5;124mMdAE: \u001b[39m\u001b[38;5;124m\"\u001b[39m, metrics\u001b[38;5;241m.\u001b[39mmedian_absolute_error(gt_pearson, pearson))\n",
      "File \u001b[0;32m~/soil_sim/.venv/lib/python3.10/site-packages/sklearn/utils/_param_validation.py:213\u001b[0m, in \u001b[0;36mvalidate_params.<locals>.decorator.<locals>.wrapper\u001b[0;34m(*args, **kwargs)\u001b[0m\n\u001b[1;32m    207\u001b[0m \u001b[38;5;28;01mtry\u001b[39;00m:\n\u001b[1;32m    208\u001b[0m     \u001b[38;5;28;01mwith\u001b[39;00m config_context(\n\u001b[1;32m    209\u001b[0m         skip_parameter_validation\u001b[38;5;241m=\u001b[39m(\n\u001b[1;32m    210\u001b[0m             prefer_skip_nested_validation \u001b[38;5;129;01mor\u001b[39;00m global_skip_validation\n\u001b[1;32m    211\u001b[0m         )\n\u001b[1;32m    212\u001b[0m     ):\n\u001b[0;32m--> 213\u001b[0m         \u001b[38;5;28;01mreturn\u001b[39;00m \u001b[43mfunc\u001b[49m\u001b[43m(\u001b[49m\u001b[38;5;241;43m*\u001b[39;49m\u001b[43margs\u001b[49m\u001b[43m,\u001b[49m\u001b[43m \u001b[49m\u001b[38;5;241;43m*\u001b[39;49m\u001b[38;5;241;43m*\u001b[39;49m\u001b[43mkwargs\u001b[49m\u001b[43m)\u001b[49m\n\u001b[1;32m    214\u001b[0m \u001b[38;5;28;01mexcept\u001b[39;00m InvalidParameterError \u001b[38;5;28;01mas\u001b[39;00m e:\n\u001b[1;32m    215\u001b[0m     \u001b[38;5;66;03m# When the function is just a wrapper around an estimator, we allow\u001b[39;00m\n\u001b[1;32m    216\u001b[0m     \u001b[38;5;66;03m# the function to delegate validation to the estimator, but we replace\u001b[39;00m\n\u001b[1;32m    217\u001b[0m     \u001b[38;5;66;03m# the name of the estimator by the name of the function in the error\u001b[39;00m\n\u001b[1;32m    218\u001b[0m     \u001b[38;5;66;03m# message to avoid confusion.\u001b[39;00m\n\u001b[1;32m    219\u001b[0m     msg \u001b[38;5;241m=\u001b[39m re\u001b[38;5;241m.\u001b[39msub(\n\u001b[1;32m    220\u001b[0m         \u001b[38;5;124mr\u001b[39m\u001b[38;5;124m\"\u001b[39m\u001b[38;5;124mparameter of \u001b[39m\u001b[38;5;124m\\\u001b[39m\u001b[38;5;124mw+ must be\u001b[39m\u001b[38;5;124m\"\u001b[39m,\n\u001b[1;32m    221\u001b[0m         \u001b[38;5;124mf\u001b[39m\u001b[38;5;124m\"\u001b[39m\u001b[38;5;124mparameter of \u001b[39m\u001b[38;5;132;01m{\u001b[39;00mfunc\u001b[38;5;241m.\u001b[39m\u001b[38;5;18m__qualname__\u001b[39m\u001b[38;5;132;01m}\u001b[39;00m\u001b[38;5;124m must be\u001b[39m\u001b[38;5;124m\"\u001b[39m,\n\u001b[1;32m    222\u001b[0m         \u001b[38;5;28mstr\u001b[39m(e),\n\u001b[1;32m    223\u001b[0m     )\n",
      "File \u001b[0;32m~/soil_sim/.venv/lib/python3.10/site-packages/sklearn/metrics/_regression.py:207\u001b[0m, in \u001b[0;36mmean_absolute_error\u001b[0;34m(y_true, y_pred, sample_weight, multioutput)\u001b[0m\n\u001b[1;32m    143\u001b[0m \u001b[38;5;129m@validate_params\u001b[39m(\n\u001b[1;32m    144\u001b[0m     {\n\u001b[1;32m    145\u001b[0m         \u001b[38;5;124m\"\u001b[39m\u001b[38;5;124my_true\u001b[39m\u001b[38;5;124m\"\u001b[39m: [\u001b[38;5;124m\"\u001b[39m\u001b[38;5;124marray-like\u001b[39m\u001b[38;5;124m\"\u001b[39m],\n\u001b[0;32m   (...)\u001b[0m\n\u001b[1;32m    153\u001b[0m     y_true, y_pred, \u001b[38;5;241m*\u001b[39m, sample_weight\u001b[38;5;241m=\u001b[39m\u001b[38;5;28;01mNone\u001b[39;00m, multioutput\u001b[38;5;241m=\u001b[39m\u001b[38;5;124m\"\u001b[39m\u001b[38;5;124muniform_average\u001b[39m\u001b[38;5;124m\"\u001b[39m\n\u001b[1;32m    154\u001b[0m ):\n\u001b[1;32m    155\u001b[0m \u001b[38;5;250m    \u001b[39m\u001b[38;5;124;03m\"\"\"Mean absolute error regression loss.\u001b[39;00m\n\u001b[1;32m    156\u001b[0m \n\u001b[1;32m    157\u001b[0m \u001b[38;5;124;03m    Read more in the :ref:`User Guide <mean_absolute_error>`.\u001b[39;00m\n\u001b[0;32m   (...)\u001b[0m\n\u001b[1;32m    205\u001b[0m \u001b[38;5;124;03m    0.85...\u001b[39;00m\n\u001b[1;32m    206\u001b[0m \u001b[38;5;124;03m    \"\"\"\u001b[39;00m\n\u001b[0;32m--> 207\u001b[0m     y_type, y_true, y_pred, multioutput \u001b[38;5;241m=\u001b[39m \u001b[43m_check_reg_targets\u001b[49m\u001b[43m(\u001b[49m\n\u001b[1;32m    208\u001b[0m \u001b[43m        \u001b[49m\u001b[43my_true\u001b[49m\u001b[43m,\u001b[49m\u001b[43m \u001b[49m\u001b[43my_pred\u001b[49m\u001b[43m,\u001b[49m\u001b[43m \u001b[49m\u001b[43mmultioutput\u001b[49m\n\u001b[1;32m    209\u001b[0m \u001b[43m    \u001b[49m\u001b[43m)\u001b[49m\n\u001b[1;32m    210\u001b[0m     check_consistent_length(y_true, y_pred, sample_weight)\n\u001b[1;32m    211\u001b[0m     output_errors \u001b[38;5;241m=\u001b[39m np\u001b[38;5;241m.\u001b[39maverage(np\u001b[38;5;241m.\u001b[39mabs(y_pred \u001b[38;5;241m-\u001b[39m y_true), weights\u001b[38;5;241m=\u001b[39msample_weight, axis\u001b[38;5;241m=\u001b[39m\u001b[38;5;241m0\u001b[39m)\n",
      "File \u001b[0;32m~/soil_sim/.venv/lib/python3.10/site-packages/sklearn/metrics/_regression.py:102\u001b[0m, in \u001b[0;36m_check_reg_targets\u001b[0;34m(y_true, y_pred, multioutput, dtype)\u001b[0m\n\u001b[1;32m     68\u001b[0m \u001b[38;5;28;01mdef\u001b[39;00m \u001b[38;5;21m_check_reg_targets\u001b[39m(y_true, y_pred, multioutput, dtype\u001b[38;5;241m=\u001b[39m\u001b[38;5;124m\"\u001b[39m\u001b[38;5;124mnumeric\u001b[39m\u001b[38;5;124m\"\u001b[39m):\n\u001b[1;32m     69\u001b[0m \u001b[38;5;250m    \u001b[39m\u001b[38;5;124;03m\"\"\"Check that y_true and y_pred belong to the same regression task.\u001b[39;00m\n\u001b[1;32m     70\u001b[0m \n\u001b[1;32m     71\u001b[0m \u001b[38;5;124;03m    Parameters\u001b[39;00m\n\u001b[0;32m   (...)\u001b[0m\n\u001b[1;32m    100\u001b[0m \u001b[38;5;124;03m        correct keyword.\u001b[39;00m\n\u001b[1;32m    101\u001b[0m \u001b[38;5;124;03m    \"\"\"\u001b[39;00m\n\u001b[0;32m--> 102\u001b[0m     \u001b[43mcheck_consistent_length\u001b[49m\u001b[43m(\u001b[49m\u001b[43my_true\u001b[49m\u001b[43m,\u001b[49m\u001b[43m \u001b[49m\u001b[43my_pred\u001b[49m\u001b[43m)\u001b[49m\n\u001b[1;32m    103\u001b[0m     y_true \u001b[38;5;241m=\u001b[39m check_array(y_true, ensure_2d\u001b[38;5;241m=\u001b[39m\u001b[38;5;28;01mFalse\u001b[39;00m, dtype\u001b[38;5;241m=\u001b[39mdtype)\n\u001b[1;32m    104\u001b[0m     y_pred \u001b[38;5;241m=\u001b[39m check_array(y_pred, ensure_2d\u001b[38;5;241m=\u001b[39m\u001b[38;5;28;01mFalse\u001b[39;00m, dtype\u001b[38;5;241m=\u001b[39mdtype)\n",
      "File \u001b[0;32m~/soil_sim/.venv/lib/python3.10/site-packages/sklearn/utils/validation.py:457\u001b[0m, in \u001b[0;36mcheck_consistent_length\u001b[0;34m(*arrays)\u001b[0m\n\u001b[1;32m    455\u001b[0m uniques \u001b[38;5;241m=\u001b[39m np\u001b[38;5;241m.\u001b[39munique(lengths)\n\u001b[1;32m    456\u001b[0m \u001b[38;5;28;01mif\u001b[39;00m \u001b[38;5;28mlen\u001b[39m(uniques) \u001b[38;5;241m>\u001b[39m \u001b[38;5;241m1\u001b[39m:\n\u001b[0;32m--> 457\u001b[0m     \u001b[38;5;28;01mraise\u001b[39;00m \u001b[38;5;167;01mValueError\u001b[39;00m(\n\u001b[1;32m    458\u001b[0m         \u001b[38;5;124m\"\u001b[39m\u001b[38;5;124mFound input variables with inconsistent numbers of samples: \u001b[39m\u001b[38;5;132;01m%r\u001b[39;00m\u001b[38;5;124m\"\u001b[39m\n\u001b[1;32m    459\u001b[0m         \u001b[38;5;241m%\u001b[39m [\u001b[38;5;28mint\u001b[39m(l) \u001b[38;5;28;01mfor\u001b[39;00m l \u001b[38;5;129;01min\u001b[39;00m lengths]\n\u001b[1;32m    460\u001b[0m     )\n",
      "\u001b[0;31mValueError\u001b[0m: Found input variables with inconsistent numbers of samples: [12, 9]"
     ]
    }
   ],
   "source": [
    "from sklearn import metrics\n",
    "\n",
    "#print(\"Initial co-occurrence <-> Ground truth\")\n",
    "#print(\"MAE: \", metrics.mean_absolute_error(A, gt_pearson))\n",
    "#print(\"MaxE: \", metrics.max_error(A.flatten(), gt_pearson.flatten()))\n",
    "#print(\"MdAE: \", metrics.median_absolute_error(A, gt_pearson))\n",
    "#print(\"R2: \", metrics.r2_score(A, gt_pearson))\n",
    "#print(\"EV: \", metrics.explained_variance_score(A, gt_pearson))\n",
    "\n",
    "print(\"\\nGround truth <-> Sampling\")\n",
    "print(\"MAE: \", metrics.mean_absolute_error(gt_pearson, pearson))\n",
    "print(\"MaxE: \", metrics.max_error(gt_pearson.flatten(), pearson.flatten()))\n",
    "print(\"MdAE: \", metrics.median_absolute_error(gt_pearson, pearson))\n",
    "print(\"R2: \", metrics.r2_score(gt_pearson, pearson))\n",
    "print(\"EV: \", metrics.explained_variance_score(gt_pearson, pearson))\n",
    "\n",
    "print(\"\\nInitial co-occurrence <-> Sampling\")\n",
    "print(\"MAE: \", metrics.mean_absolute_error(A, pearson))\n",
    "print(\"MaxE: \", metrics.max_error(A.flatten(), pearson.flatten()))\n",
    "print(\"MdAE: \", metrics.median_absolute_error(A, pearson))\n",
    "print(\"R2: \", metrics.r2_score(A, pearson))\n",
    "print(\"EV: \", metrics.explained_variance_score(A, pearson))\n"
   ]
  }
 ],
 "metadata": {
  "kernelspec": {
   "display_name": ".venv",
   "language": "python",
   "name": "python3"
  },
  "language_info": {
   "codemirror_mode": {
    "name": "ipython",
    "version": 3
   },
   "file_extension": ".py",
   "mimetype": "text/x-python",
   "name": "python",
   "nbconvert_exporter": "python",
   "pygments_lexer": "ipython3",
   "version": "3.10.12"
  }
 },
 "nbformat": 4,
 "nbformat_minor": 2
}
