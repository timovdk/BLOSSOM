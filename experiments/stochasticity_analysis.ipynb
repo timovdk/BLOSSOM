{
 "cells": [
  {
   "cell_type": "code",
   "execution_count": 36,
   "metadata": {},
   "outputs": [],
   "source": [
    "%matplotlib inline\n",
    "\n",
    "import numpy as np\n",
    "import matplotlib.pyplot as plt\n",
    "import pandas as pd\n",
    "\n",
    "#filenames = ['agent_log_0', 'agent_log_1','agent_log_2','agent_log_3', 'agent_log_4', 'agent_log_5', 'agent_log_6', 'agent_log_7', 'agent_log_8', 'agent_log_9', 'agent_log_10', 'agent_log_11', 'agent_log_12', 'agent_log_13', 'agent_log_14', 'agent_log_15', 'agent_log_16', 'agent_log_17', 'agent_log_18', 'agent_log_19', 'agent_log_20']\n",
    "\n",
    "#filenames = ['agent_log_0', 'agent_log_7', 'agent_log_14']\n",
    "#filenames = ['agent_log_1', 'agent_log_8', 'agent_log_15']\n",
    "#filenames = ['agent_log_2', 'agent_log_9', 'agent_log_16']\n",
    "#filenames = ['agent_log_3', 'agent_log_10', 'agent_log_17']\n",
    "#filenames = ['agent_log_4', 'agent_log_11', 'agent_log_18']\n",
    "#filenames = ['agent_log_5', 'agent_log_12', 'agent_log_19']\n",
    "#filenames = ['agent_log_6', 'agent_log_13', 'agent_log_20']\n",
    "\n",
    "\n",
    "x_max = 100\n",
    "y_max = 100\n",
    "z_max = 12\n",
    "\n",
    "SMALL_SIZE = 14\n",
    "MEDIUM_SIZE = 16\n",
    "BIGGER_SIZE = 18\n",
    "\n",
    "plt.rc('font', size=SMALL_SIZE)          # controls default text sizes\n",
    "plt.rc('axes', titlesize=SMALL_SIZE)     # fontsize of the axes title\n",
    "plt.rc('axes', labelsize=MEDIUM_SIZE)    # fontsize of the x and y labels\n",
    "plt.rc('xtick', labelsize=SMALL_SIZE)    # fontsize of the tick labels\n",
    "plt.rc('ytick', labelsize=SMALL_SIZE)    # fontsize of the tick labels\n",
    "plt.rc('legend', fontsize=SMALL_SIZE)    # legend fontsize\n",
    "plt.rc('figure', titlesize=BIGGER_SIZE)  # fontsize of the figure title\n",
    "plt.style.use(\"seaborn-v0_8-whitegrid\")"
   ]
  },
  {
   "cell_type": "code",
   "execution_count": 37,
   "metadata": {},
   "outputs": [],
   "source": [
    "data = []\n",
    "for filename in filenames:\n",
    "    df = pd.read_csv(\"../blossom/outputs/\" + filename + \".csv\")\n",
    "    data.append(\n",
    "        {\n",
    "            \"0\": df[df[\"type\"] == 0].value_counts(\"tick\").mean(),\n",
    "            \"1\": df[df[\"type\"] == 1].value_counts(\"tick\").mean(),\n",
    "            \"2\": df[df[\"type\"] == 2].value_counts(\"tick\").mean(),\n",
    "            \"3\": df[df[\"type\"] == 3].value_counts(\"tick\").mean(),\n",
    "            \"4\": df[df[\"type\"] == 4].value_counts(\"tick\").mean(),\n",
    "            \"5\": df[df[\"type\"] == 5].value_counts(\"tick\").mean(),\n",
    "            \"6\": df[df[\"type\"] == 6].value_counts(\"tick\").mean(),\n",
    "            \"7\": df[df[\"type\"] == 7].value_counts(\"tick\").mean(),\n",
    "            \"8\": df[df[\"type\"] == 8].value_counts(\"tick\").mean(),\n",
    "        }\n",
    "    )\n",
    "    \n",
    "cols = [\"0\", \"1\", \"2\", \"3\", \"4\", \"5\", \"6\", \"7\", \"8\"]\n",
    "df2 = pd.DataFrame(data, columns=cols)"
   ]
  },
  {
   "cell_type": "code",
   "execution_count": 38,
   "metadata": {},
   "outputs": [
    {
     "data": {
      "text/plain": [
       "0    264001.848185\n",
       "1     19245.778878\n",
       "2     29424.775578\n",
       "3     13497.115512\n",
       "4      9082.320132\n",
       "5      2034.504950\n",
       "6      2749.300330\n",
       "7      1156.435644\n",
       "8      1199.075908\n",
       "dtype: float64"
      ]
     },
     "execution_count": 38,
     "metadata": {},
     "output_type": "execute_result"
    }
   ],
   "source": [
    "df2.mean(axis=0)"
   ]
  },
  {
   "cell_type": "code",
   "execution_count": 39,
   "metadata": {},
   "outputs": [
    {
     "data": {
      "text/plain": [
       "0    14338.927367\n",
       "1     4452.535159\n",
       "2     1885.341940\n",
       "3     2097.334050\n",
       "4      187.692979\n",
       "5       23.270573\n",
       "6       68.870769\n",
       "7        0.000000\n",
       "8       16.913303\n",
       "dtype: float64"
      ]
     },
     "execution_count": 39,
     "metadata": {},
     "output_type": "execute_result"
    }
   ],
   "source": [
    "df2.std(axis=0)"
   ]
  }
 ],
 "metadata": {
  "kernelspec": {
   "display_name": ".venv",
   "language": "python",
   "name": "python3"
  },
  "language_info": {
   "codemirror_mode": {
    "name": "ipython",
    "version": 3
   },
   "file_extension": ".py",
   "mimetype": "text/x-python",
   "name": "python",
   "nbconvert_exporter": "python",
   "pygments_lexer": "ipython3",
   "version": "3.10.12"
  }
 },
 "nbformat": 4,
 "nbformat_minor": 2
}
