{
 "cells": [
  {
   "cell_type": "code",
   "execution_count": 25,
   "metadata": {},
   "outputs": [],
   "source": [
    "import pandas as pd"
   ]
  },
  {
   "cell_type": "markdown",
   "metadata": {},
   "source": [
    "# Abundances"
   ]
  },
  {
   "cell_type": "code",
   "execution_count": 26,
   "metadata": {},
   "outputs": [
    {
     "name": "stdout",
     "output_type": "stream",
     "text": [
      "MAE 1 \t 0.853098287037037 \t 0.6996653686959455\n",
      "MdAE 1 \t 0.12897625 \t 0.11608378213780945\n",
      "MAE 2 \t 0.8129057193732194 \t 0.6662136484873534\n",
      "MdAE 2 \t 0.14152464743589743 \t 0.12526700763499585\n",
      "MAE 3 \t 0.7944170833333334 \t 0.6344440679704175\n",
      "MdAE 3 \t 0.13980270833333333 \t 0.10515841607647834\n",
      "MAE 4 \t 0.7790224074074075 \t 0.6178918654076981\n",
      "MdAE 4 \t 0.1309898729674797 \t 0.08873359122395477\n",
      "MAE 5 \t 0.7772535769581056 \t 0.6304650806733108\n",
      "MdAE 5 \t 0.12494858606557374 \t 0.08821005946721301\n",
      "\n",
      "MAE 1 \t 1.0291709722222222 \t 0.6804359901390151\n",
      "MdAE 1 \t 0.16654583333333334 \t 0.14977223524801084\n",
      "MAE 2 \t 0.9730968732193733 \t 0.639310983622674\n",
      "MdAE 2 \t 0.1790344551282051 \t 0.12527298988301652\n",
      "MAE 3 \t 0.9274942592592592 \t 0.6194608177887623\n",
      "MdAE 3 \t 0.169553125 \t 0.11876029372088343\n",
      "MAE 4 \t 0.9165086506323395 \t 0.6189229706187587\n",
      "MdAE 4 \t 0.15865982215447155 \t 0.10531780036980076\n",
      "MAE 5 \t 0.8969120340012144 \t 0.5936542771142186\n",
      "MdAE 5 \t 0.14582933060109288 \t 0.08053330594682077\n"
     ]
    }
   ],
   "source": [
    "df = pd.read_csv('./results/abundances_sample_w.csv')\n",
    "df['distribution'] = pd.Series('clustered', index=df.index).mask(df['filename'].str.contains('random'), 'random')\n",
    "df1 = df[df['distribution'] == 'random']\n",
    "df2 = df[df['distribution'] == 'clustered']\n",
    "for r in df1['r'].unique():\n",
    "    temp = df1[df1['r'] == r]\n",
    "    print('MAE', r, '\\t', temp['mae'].mean(), '\\t', temp['mae'].std())\n",
    "    print('MdAE', r, '\\t', temp['mdae'].mean(), '\\t', temp['mdae'].std())\n",
    "\n",
    "print()\n",
    "\n",
    "for r in df2['r'].unique():\n",
    "    temp = df2[df2['r'] == r]\n",
    "    print('MAE', r, '\\t', temp['mae'].mean(), '\\t', temp['mae'].std())\n",
    "    print('MdAE', r, '\\t', temp['mdae'].mean(), '\\t', temp['mdae'].std())"
   ]
  },
  {
   "cell_type": "code",
   "execution_count": 27,
   "metadata": {},
   "outputs": [
    {
     "name": "stdout",
     "output_type": "stream",
     "text": [
      "MAE 1 \t 0.838718888888889 \t 0.6922257895466308\n",
      "MdAE 1 \t 0.12347250000000001 \t 0.11547665193044797\n",
      "MAE 2 \t 0.8114052216880342 \t 0.6874776118304664\n",
      "MdAE 2 \t 0.13619673076923075 \t 0.12409868633310396\n",
      "MAE 3 \t 0.7944472569444445 \t 0.6664443733042454\n",
      "MdAE 3 \t 0.1336475 \t 0.0937672245911305\n",
      "MAE 4 \t 0.7888533011517614 \t 0.6519154747205602\n",
      "MdAE 4 \t 0.12679067454268292 \t 0.08225339075245958\n",
      "MAE 5 \t 0.7808232991803278 \t 0.6456980183270588\n",
      "MdAE 5 \t 0.12510611424180323 \t 0.08640179886430494\n",
      "\n",
      "MAE 1 \t 1.0409126041666668 \t 0.7227523056006554\n",
      "MdAE 1 \t 0.174211875 \t 0.15592447165752116\n",
      "MAE 2 \t 0.9780471314102563 \t 0.6554811517585755\n",
      "MdAE 2 \t 0.18186584134615386 \t 0.13067444635155587\n",
      "MAE 3 \t 0.9314231944444445 \t 0.64140256221644\n",
      "MdAE 3 \t 0.171815 \t 0.11785364619573759\n",
      "MAE 4 \t 0.911684185298103 \t 0.6431285900581627\n",
      "MdAE 4 \t 0.16286221036585366 \t 0.10793953355097244\n",
      "MAE 5 \t 0.8948662101548269 \t 0.6225668544125432\n",
      "MdAE 5 \t 0.15438579149590165 \t 0.09555152416067816\n"
     ]
    }
   ],
   "source": [
    "df = pd.read_csv('./results/abundances_sample_reg.csv')\n",
    "df['distribution'] = pd.Series('clustered', index=df.index).mask(df['filename'].str.contains('random'), 'random')\n",
    "df1 = df[df['distribution'] == 'random']\n",
    "df2 = df[df['distribution'] == 'clustered']\n",
    "for r in df1['r'].unique():\n",
    "    temp = df1[df1['r'] == r]\n",
    "    print('MAE', r, '\\t', temp['mae'].mean(), '\\t', temp['mae'].std())\n",
    "    print('MdAE', r, '\\t', temp['mdae'].mean(), '\\t', temp['mdae'].std())\n",
    "\n",
    "print()\n",
    "\n",
    "for r in df2['r'].unique():\n",
    "    temp = df2[df2['r'] == r]\n",
    "    print('MAE', r, '\\t', temp['mae'].mean(), '\\t', temp['mae'].std())\n",
    "    print('MdAE', r, '\\t', temp['mdae'].mean(), '\\t', temp['mdae'].std())"
   ]
  },
  {
   "cell_type": "code",
   "execution_count": 28,
   "metadata": {},
   "outputs": [
    {
     "name": "stdout",
     "output_type": "stream",
     "text": [
      "MAE 1 \t 0.3546292592592592 \t 0.12932620274739431\n",
      "MdAE 1 \t 0.10232249999999998 \t 0.061864654495739246\n",
      "MAE 2 \t 0.31910690883190884 \t 0.10981286565350887\n",
      "MdAE 2 \t 0.06610243589743588 \t 0.037659550101970585\n",
      "MAE 3 \t 0.29456814814814813 \t 0.10924264882427011\n",
      "MdAE 3 \t 0.05716583333333332 \t 0.031155145386666496\n",
      "MAE 4 \t 0.28924479223125565 \t 0.11211953248011305\n",
      "MdAE 4 \t 0.05484841463414629 \t 0.032972409494005164\n",
      "MAE 5 \t 0.28524398907103826 \t 0.11208643126395192\n",
      "MdAE 5 \t 0.050237254098360606 \t 0.03214717561391711\n",
      "\n",
      "MAE 1 \t 0.36993203703703703 \t 0.1583412945219877\n",
      "MdAE 1 \t 0.13847916666666665 \t 0.07114288025902316\n",
      "MAE 2 \t 0.31607631054131047 \t 0.1458002479215512\n",
      "MdAE 2 \t 0.09015878205128203 \t 0.0489994065578138\n",
      "MAE 3 \t 0.27712499999999995 \t 0.1163486073878295\n",
      "MdAE 3 \t 0.07885916666666659 \t 0.036193630289568963\n",
      "MAE 4 \t 0.2569760930442637 \t 0.10805336809884668\n",
      "MdAE 4 \t 0.07818977642276417 \t 0.039973811395686565\n",
      "MAE 5 \t 0.24309139951426834 \t 0.11063213475827215\n",
      "MdAE 5 \t 0.06986599726775958 \t 0.03667307052623119\n"
     ]
    }
   ],
   "source": [
    "df = pd.read_csv('./results/abundances_plot_w.csv')\n",
    "df['distribution'] = pd.Series('clustered', index=df.index).mask(df['filename'].str.contains('random'), 'random')\n",
    "df1 = df[df['distribution'] == 'random']\n",
    "df2 = df[df['distribution'] == 'clustered']\n",
    "for r in df1['r'].unique():\n",
    "    temp = df1[df1['r'] == r]\n",
    "    print('MAE', r, '\\t', temp['mae'].mean(), '\\t', temp['mae'].std())\n",
    "    print('MdAE', r, '\\t', temp['mdae'].mean(), '\\t', temp['mdae'].std())\n",
    "\n",
    "print()\n",
    "\n",
    "for r in df2['r'].unique():\n",
    "    temp = df2[df2['r'] == r]\n",
    "    print('MAE', r, '\\t', temp['mae'].mean(), '\\t', temp['mae'].std())\n",
    "    print('MdAE', r, '\\t', temp['mdae'].mean(), '\\t', temp['mdae'].std())"
   ]
  },
  {
   "cell_type": "code",
   "execution_count": 29,
   "metadata": {},
   "outputs": [
    {
     "name": "stdout",
     "output_type": "stream",
     "text": [
      "MAE 1 \t 0.25891888888888887 \t 0.12138117288362431\n",
      "MdAE 1 \t 0.08420749999999999 \t 0.06713435718373778\n",
      "MAE 2 \t 0.2435282051282051 \t 0.10933815428012054\n",
      "MdAE 2 \t 0.05676230769230767 \t 0.04129092995191547\n",
      "MAE 3 \t 0.23272333333333334 \t 0.10056357080265\n",
      "MdAE 3 \t 0.048064999999999934 \t 0.02056242165238633\n",
      "MAE 4 \t 0.22230178861788613 \t 0.09489893254731899\n",
      "MdAE 4 \t 0.04505353658536581 \t 0.01453736668181834\n",
      "MAE 5 \t 0.21152598360655736 \t 0.08899968126185988\n",
      "MdAE 5 \t 0.034794180327868816 \t 0.01410801225427443\n",
      "\n",
      "MAE 1 \t 0.2655388888888889 \t 0.12362243120516611\n",
      "MdAE 1 \t 0.11649500000000002 \t 0.1028807906217063\n",
      "MAE 2 \t 0.2201768376068376 \t 0.0964881043604348\n",
      "MdAE 2 \t 0.08976499999999998 \t 0.06526073083843846\n",
      "MAE 3 \t 0.1951577777777778 \t 0.08595844706125508\n",
      "MdAE 3 \t 0.06837499999999999 \t 0.04222868350453653\n",
      "MAE 4 \t 0.18080405149051487 \t 0.07342912860804715\n",
      "MdAE 4 \t 0.059858475609756066 \t 0.028423979407415374\n",
      "MAE 5 \t 0.17385167577413477 \t 0.08367540221763292\n",
      "MdAE 5 \t 0.05615036885245903 \t 0.028258882652235452\n"
     ]
    }
   ],
   "source": [
    "df = pd.read_csv('./results/abundances_plot_reg.csv')\n",
    "df['distribution'] = pd.Series('clustered', index=df.index).mask(df['filename'].str.contains('random'), 'random')\n",
    "df1 = df[df['distribution'] == 'random']\n",
    "df2 = df[df['distribution'] == 'clustered']\n",
    "for r in df1['r'].unique():\n",
    "    temp = df1[df1['r'] == r]\n",
    "    print('MAE', r, '\\t', temp['mae'].mean(), '\\t', temp['mae'].std())\n",
    "    print('MdAE', r, '\\t', temp['mdae'].mean(), '\\t', temp['mdae'].std())\n",
    "\n",
    "print()\n",
    "\n",
    "for r in df2['r'].unique():\n",
    "    temp = df2[df2['r'] == r]\n",
    "    print('MAE', r, '\\t', temp['mae'].mean(), '\\t', temp['mae'].std())\n",
    "    print('MdAE', r, '\\t', temp['mdae'].mean(), '\\t', temp['mdae'].std())"
   ]
  },
  {
   "cell_type": "markdown",
   "metadata": {},
   "source": [
    "# Diversity"
   ]
  },
  {
   "cell_type": "code",
   "execution_count": 30,
   "metadata": {},
   "outputs": [
    {
     "name": "stdout",
     "output_type": "stream",
     "text": [
      "ACC 1 \t 0.08333333333333334 \t 0.10036351100184153\n",
      "ACC 2 \t 0.11851851851851854 \t 0.12174441351828412\n",
      "ACC 3 \t 0.14675925925925928 \t 0.13180117540829003\n",
      "ACC 4 \t 0.17870370370370375 \t 0.14142196500262044\n",
      "ACC 5 \t 0.20925925925925926 \t 0.14601360128983468\n",
      "\n",
      "ACC 1 \t 0.11805555555555557 \t 0.10367056044285805\n",
      "ACC 2 \t 0.16990740740740745 \t 0.12150285602647659\n",
      "ACC 3 \t 0.2106481481481482 \t 0.1434550806342803\n",
      "ACC 4 \t 0.24907407407407411 \t 0.15246029449823392\n",
      "ACC 5 \t 0.28657407407407404 \t 0.15787207738049613\n"
     ]
    }
   ],
   "source": [
    "df = pd.read_csv('./results/diversity_sample_w.csv')\n",
    "df['distribution'] = pd.Series('clustered', index=df.index).mask(df['filename'].str.contains('random'), 'random')\n",
    "df1 = df[df['distribution'] == 'random']\n",
    "df2 = df[df['distribution'] == 'clustered']\n",
    "for r in df1['r'].unique():\n",
    "    temp = df1[df1['r'] == r]\n",
    "    print('ACC', r, '\\t', temp['acc'].mean(), '\\t', temp['acc'].std())\n",
    "\n",
    "print()\n",
    "\n",
    "for r in df2['r'].unique():\n",
    "    temp = df2[df2['r'] == r]\n",
    "    print('ACC', r, '\\t', temp['acc'].mean(), '\\t', temp['acc'].std())"
   ]
  },
  {
   "cell_type": "code",
   "execution_count": 31,
   "metadata": {},
   "outputs": [
    {
     "name": "stdout",
     "output_type": "stream",
     "text": [
      "ACC 1 \t 0.07847222222222222 \t 0.09605144186580529\n",
      "ACC 2 \t 0.11597222222222223 \t 0.11891564395218385\n",
      "ACC 3 \t 0.14618055555555556 \t 0.12826816308443414\n",
      "ACC 4 \t 0.18090277777777777 \t 0.13948799729500977\n",
      "ACC 5 \t 0.2107638888888889 \t 0.15054333205310405\n",
      "\n",
      "ACC 1 \t 0.12465277777777779 \t 0.10707523542470251\n",
      "ACC 2 \t 0.1774305555555556 \t 0.12332658266769564\n",
      "ACC 3 \t 0.22569444444444448 \t 0.14900465718663763\n",
      "ACC 4 \t 0.2677083333333333 \t 0.15754952742996509\n",
      "ACC 5 \t 0.3041666666666667 \t 0.16552494112410465\n"
     ]
    }
   ],
   "source": [
    "df = pd.read_csv('./results/diversity_sample_reg.csv')\n",
    "df['distribution'] = pd.Series('clustered', index=df.index).mask(df['filename'].str.contains('random'), 'random')\n",
    "df1 = df[df['distribution'] == 'random']\n",
    "df2 = df[df['distribution'] == 'clustered']\n",
    "for r in df1['r'].unique():\n",
    "    temp = df1[df1['r'] == r]\n",
    "    print('ACC', r, '\\t', temp['acc'].mean(), '\\t', temp['acc'].std())\n",
    "\n",
    "print()\n",
    "\n",
    "for r in df2['r'].unique():\n",
    "    temp = df2[df2['r'] == r]\n",
    "    print('ACC', r, '\\t', temp['acc'].mean(), '\\t', temp['acc'].std())"
   ]
  },
  {
   "cell_type": "code",
   "execution_count": 32,
   "metadata": {},
   "outputs": [
    {
     "name": "stdout",
     "output_type": "stream",
     "text": [
      "ACC 1 \t 0.4666666666666666 \t 0.18592445034090568\n",
      "ACC 2 \t 0.5555555555555556 \t 0.18024602347862503\n",
      "ACC 3 \t 0.6 \t 0.17061597687775876\n",
      "ACC 4 \t 0.6666666666666667 \t 0.1529438225803745\n",
      "ACC 5 \t 0.7166666666666667 \t 0.15494869091449065\n",
      "\n",
      "ACC 1 \t 0.5333333333333333 \t 0.1468756264416431\n",
      "ACC 2 \t 0.6944444444444444 \t 0.14363244550660978\n",
      "ACC 3 \t 0.7777777777777778 \t 0.16121694446889148\n",
      "ACC 4 \t 0.8055555555555557 \t 0.1480872194397731\n",
      "ACC 5 \t 0.8388888888888889 \t 0.1590869007030706\n"
     ]
    }
   ],
   "source": [
    "df = pd.read_csv('./results/diversity_plot_w.csv')\n",
    "df['distribution'] = pd.Series('clustered', index=df.index).mask(df['filename'].str.contains('random'), 'random')\n",
    "df1 = df[df['distribution'] == 'random']\n",
    "df2 = df[df['distribution'] == 'clustered']\n",
    "for r in df1['r'].unique():\n",
    "    temp = df1[df1['r'] == r]\n",
    "    print('ACC', r, '\\t', temp['acc'].mean(), '\\t', temp['acc'].std())\n",
    "\n",
    "print()\n",
    "\n",
    "for r in df2['r'].unique():\n",
    "    temp = df2[df2['r'] == r]\n",
    "    print('ACC', r, '\\t', temp['acc'].mean(), '\\t', temp['acc'].std())"
   ]
  },
  {
   "cell_type": "code",
   "execution_count": 33,
   "metadata": {},
   "outputs": [
    {
     "name": "stdout",
     "output_type": "stream",
     "text": [
      "ACC 1 \t 0.5055555555555556 \t 0.1463215858912341\n",
      "ACC 2 \t 0.6722222222222223 \t 0.15494869091449065\n",
      "ACC 3 \t 0.7388888888888889 \t 0.14983204805742067\n",
      "ACC 4 \t 0.8166666666666668 \t 0.1362020820233611\n",
      "ACC 5 \t 0.85 \t 0.1263008979742813\n",
      "\n",
      "ACC 1 \t 0.6833333333333335 \t 0.16627634606840005\n",
      "ACC 2 \t 0.7833333333333334 \t 0.16312016164319765\n",
      "ACC 3 \t 0.8555555555555555 \t 0.16559107119346547\n",
      "ACC 4 \t 0.8777777777777779 \t 0.1481968730789667\n",
      "ACC 5 \t 0.8944444444444445 \t 0.14181135828462935\n"
     ]
    }
   ],
   "source": [
    "df = pd.read_csv('./results/diversity_plot_reg.csv')\n",
    "df['distribution'] = pd.Series('clustered', index=df.index).mask(df['filename'].str.contains('random'), 'random')\n",
    "df1 = df[df['distribution'] == 'random']\n",
    "df2 = df[df['distribution'] == 'clustered']\n",
    "for r in df1['r'].unique():\n",
    "    temp = df1[df1['r'] == r]\n",
    "    print('ACC', r, '\\t', temp['acc'].mean(), '\\t', temp['acc'].std())\n",
    "\n",
    "print()\n",
    "\n",
    "for r in df2['r'].unique():\n",
    "    temp = df2[df2['r'] == r]\n",
    "    print('ACC', r, '\\t', temp['acc'].mean(), '\\t', temp['acc'].std())"
   ]
  },
  {
   "cell_type": "markdown",
   "metadata": {},
   "source": [
    "# D-Index"
   ]
  },
  {
   "cell_type": "code",
   "execution_count": 42,
   "metadata": {},
   "outputs": [
    {
     "name": "stdout",
     "output_type": "stream",
     "text": [
      "MAE 1 \t 0.8155916591638028 \t 0.10023434400098118\n",
      "MAE 2 \t 0.8044298017215019 \t 0.10939021564844917\n",
      "MAE 3 \t 0.7984527569332274 \t 0.11186731642304114\n",
      "MAE 4 \t 0.7892174425961294 \t 0.11752630748391953\n",
      "MAE 5 \t 0.7807180784238453 \t 0.12297405991120737\n",
      "\n",
      "MdAE 1 \t 0.945594702099295 \t 0.1279566591091209\n",
      "MdAE 2 \t 0.9304784647155672 \t 0.14902261771463265\n",
      "MdAE 3 \t 0.9212596658000906 \t 0.15543394738869906\n",
      "MdAE 4 \t 0.9088899946246511 \t 0.16660957947517124\n",
      "MdAE 5 \t 0.8980465978034863 \t 0.1727942421625417\n",
      "\n",
      "MAE 1 \t 0.7913060904505278 \t 0.11987559292099549\n",
      "MAE 2 \t 0.765952042676527 \t 0.13584225338971057\n",
      "MAE 3 \t 0.7510880847139154 \t 0.14412714533077134\n",
      "MAE 4 \t 0.7446428351017782 \t 0.141509944616382\n",
      "MAE 5 \t 0.7355153236186766 \t 0.1439719911191215\n",
      "\n",
      "MdAE 1 \t 0.9231696220943301 \t 0.15423875452384078\n",
      "MdAE 2 \t 0.8918197895662977 \t 0.18812321304225096\n",
      "MdAE 3 \t 0.875717047134496 \t 0.19478970637825113\n",
      "MdAE 4 \t 0.8672101234389288 \t 0.19110498057943345\n",
      "MdAE 5 \t 0.8573881219045272 \t 0.190637201791558\n"
     ]
    }
   ],
   "source": [
    "df = pd.read_csv('./results/d_index_sample_w.csv')\n",
    "df['distribution'] = pd.Series('clustered', index=df.index).mask(df['filename'].str.contains('random'), 'random')\n",
    "df1 = df[df['distribution'] == 'random']\n",
    "df2 = df[df['distribution'] == 'clustered']\n",
    "for r in df1['r'].unique():\n",
    "    temp = df1[df1['r'] == r]\n",
    "    print('MAE', r, '\\t', temp['mae'].mean(), '\\t', temp['mae'].std())\n",
    "\n",
    "print()\n",
    "\n",
    "for r in df1['r'].unique():\n",
    "    temp = df1[df1['r'] == r]\n",
    "    print('MdAE', r, '\\t', temp['mdae'].mean(), '\\t', temp['mdae'].std())\n",
    "\n",
    "print()\n",
    "\n",
    "for r in df2['r'].unique():\n",
    "    temp = df2[df2['r'] == r]\n",
    "    print('MAE', r, '\\t', temp['mae'].mean(), '\\t', temp['mae'].std())\n",
    "\n",
    "print()\n",
    "    \n",
    "for r in df2['r'].unique():\n",
    "    temp = df2[df2['r'] == r]\n",
    "    print('MdAE', r, '\\t', temp['mdae'].mean(), '\\t', temp['mdae'].std())"
   ]
  },
  {
   "cell_type": "code",
   "execution_count": 41,
   "metadata": {},
   "outputs": [
    {
     "name": "stdout",
     "output_type": "stream",
     "text": [
      "MAE 1 \t 0.8199924569568678 \t 0.09344207358130904\n",
      "MAE 2 \t 0.8008401295880468 \t 0.11451169834021911\n",
      "MAE 3 \t 0.7916309537480176 \t 0.11987991699485208\n",
      "MAE 4 \t 0.7786995537155306 \t 0.1294120108912731\n",
      "MAE 5 \t 0.773622130923756 \t 0.1304012458458061\n",
      "\n",
      "MdAE 1 \t 0.9458494362456865 \t 0.12507674400349866\n",
      "MdAE 2 \t 0.9248262486789659 \t 0.1595301107396494\n",
      "MdAE 3 \t 0.914235293308607 \t 0.16621554707855718\n",
      "MdAE 4 \t 0.9022236028066175 \t 0.1725504765008918\n",
      "MdAE 5 \t 0.8958010075927721 \t 0.17153295088270076\n",
      "\n",
      "MAE 1 \t 0.7790169188990742 \t 0.13037897418403788\n",
      "MAE 2 \t 0.7655076240738263 \t 0.13504251281664678\n",
      "MAE 3 \t 0.7547614397972765 \t 0.13853827122105622\n",
      "MAE 4 \t 0.7427751979210996 \t 0.14299794901853116\n",
      "MAE 5 \t 0.739066376793188 \t 0.14162859340860878\n",
      "\n",
      "MdAE 1 \t 0.9074542439815834 \t 0.17761837108901676\n",
      "MdAE 2 \t 0.8946033662312797 \t 0.17680560881228238\n",
      "MdAE 3 \t 0.8819180157420133 \t 0.1748977315688452\n",
      "MdAE 4 \t 0.8669438495974242 \t 0.182263294005114\n",
      "MdAE 5 \t 0.8618607794613872 \t 0.1794751331058545\n"
     ]
    }
   ],
   "source": [
    "df = pd.read_csv('./results/d_index_sample_reg.csv')\n",
    "df['distribution'] = pd.Series('clustered', index=df.index).mask(df['filename'].str.contains('random'), 'random')\n",
    "df1 = df[df['distribution'] == 'random']\n",
    "df2 = df[df['distribution'] == 'clustered']\n",
    "for r in df1['r'].unique():\n",
    "    temp = df1[df1['r'] == r]\n",
    "    print('MAE', r, '\\t', temp['mae'].mean(), '\\t', temp['mae'].std())\n",
    "\n",
    "print()\n",
    "\n",
    "for r in df1['r'].unique():\n",
    "    temp = df1[df1['r'] == r]\n",
    "    print('MdAE', r, '\\t', temp['mdae'].mean(), '\\t', temp['mdae'].std())\n",
    "\n",
    "print()\n",
    "\n",
    "for r in df2['r'].unique():\n",
    "    temp = df2[df2['r'] == r]\n",
    "    print('MAE', r, '\\t', temp['mae'].mean(), '\\t', temp['mae'].std())\n",
    "\n",
    "print()\n",
    "    \n",
    "for r in df2['r'].unique():\n",
    "    temp = df2[df2['r'] == r]\n",
    "    print('MdAE', r, '\\t', temp['mdae'].mean(), '\\t', temp['mdae'].std())"
   ]
  },
  {
   "cell_type": "code",
   "execution_count": 40,
   "metadata": {},
   "outputs": [
    {
     "name": "stdout",
     "output_type": "stream",
     "text": [
      "MAE 1 \t 0.7244413979681785 \t 0.16818682579523866\n",
      "MAE 2 \t 0.6917677519327934 \t 0.1731335985299203\n",
      "MAE 3 \t 0.6740019574473055 \t 0.17097250138413378\n",
      "MAE 4 \t 0.6592035807062163 \t 0.1656536891128602\n",
      "MAE 5 \t 0.6277405834526522 \t 0.17292245600551184\n",
      "\n",
      "MdAE 1 \t 0.8287159910330906 \t 0.2604465474550579\n",
      "MdAE 2 \t 0.7791313698654306 \t 0.2632203382878054\n",
      "MdAE 3 \t 0.7490141452702144 \t 0.2518759527797015\n",
      "MdAE 4 \t 0.7205232347569224 \t 0.23671884406565447\n",
      "MdAE 5 \t 0.6698151192068451 \t 0.2444989176532167\n",
      "\n",
      "MAE 1 \t 0.6896867971323783 \t 0.1724893226583933\n",
      "MAE 2 \t 0.6192002676155475 \t 0.17557595289538208\n",
      "MAE 3 \t 0.5839089351390442 \t 0.17105544864596858\n",
      "MAE 4 \t 0.5634427954725745 \t 0.17341520050716122\n",
      "MAE 5 \t 0.5484915423185112 \t 0.17688381691963107\n",
      "\n",
      "MdAE 1 \t 0.8004097686034208 \t 0.25479005317055026\n",
      "MdAE 2 \t 0.6589892890424682 \t 0.2656018695170009\n",
      "MdAE 3 \t 0.629919875159196 \t 0.24677551297500105\n",
      "MdAE 4 \t 0.6008061296585427 \t 0.24113136678627317\n",
      "MdAE 5 \t 0.6005029159549996 \t 0.22836537483943764\n"
     ]
    }
   ],
   "source": [
    "df = pd.read_csv('./results/d_index_plot_w.csv')\n",
    "df['distribution'] = pd.Series('clustered', index=df.index).mask(df['filename'].str.contains('random'), 'random')\n",
    "df1 = df[df['distribution'] == 'random']\n",
    "df2 = df[df['distribution'] == 'clustered']\n",
    "for r in df1['r'].unique():\n",
    "    temp = df1[df1['r'] == r]\n",
    "    print('MAE', r, '\\t', temp['mae'].mean(), '\\t', temp['mae'].std())\n",
    "\n",
    "print()\n",
    "\n",
    "for r in df1['r'].unique():\n",
    "    temp = df1[df1['r'] == r]\n",
    "    print('MdAE', r, '\\t', temp['mdae'].mean(), '\\t', temp['mdae'].std())\n",
    "\n",
    "print()\n",
    "\n",
    "for r in df2['r'].unique():\n",
    "    temp = df2[df2['r'] == r]\n",
    "    print('MAE', r, '\\t', temp['mae'].mean(), '\\t', temp['mae'].std())\n",
    "\n",
    "print()\n",
    "    \n",
    "for r in df2['r'].unique():\n",
    "    temp = df2[df2['r'] == r]\n",
    "    print('MdAE', r, '\\t', temp['mdae'].mean(), '\\t', temp['mdae'].std())"
   ]
  },
  {
   "cell_type": "code",
   "execution_count": 39,
   "metadata": {},
   "outputs": [
    {
     "name": "stdout",
     "output_type": "stream",
     "text": [
      "MAE 1 \t 0.7304296896485318 \t 0.14813284852762063\n",
      "MAE 2 \t 0.6442023705144608 \t 0.17612070220806805\n",
      "MAE 3 \t 0.6239424822355742 \t 0.1704379096620865\n",
      "MAE 4 \t 0.5995726227548919 \t 0.15978162924518738\n",
      "MAE 5 \t 0.5891550829166579 \t 0.15692686484528184\n",
      "\n",
      "MdAE 1 \t 0.8326049400165153 \t 0.22077385698239718\n",
      "MdAE 2 \t 0.708950890256148 \t 0.25409314125542887\n",
      "MdAE 3 \t 0.6730433861221357 \t 0.23741311737706772\n",
      "MdAE 4 \t 0.6588394206412551 \t 0.206955890437153\n",
      "MdAE 5 \t 0.6420081017440277 \t 0.1969518661879634\n",
      "\n",
      "MAE 1 \t 0.6209385081255238 \t 0.18142055340892885\n",
      "MAE 2 \t 0.5885845359307857 \t 0.16374125419619603\n",
      "MAE 3 \t 0.5467570608946676 \t 0.16398284834582116\n",
      "MAE 4 \t 0.5069018442050468 \t 0.17406716926930915\n",
      "MAE 5 \t 0.4970612272264852 \t 0.17624800655200112\n",
      "\n",
      "MdAE 1 \t 0.6577300261448441 \t 0.2803418326707983\n",
      "MdAE 2 \t 0.6396198986987613 \t 0.23117000865431978\n",
      "MdAE 3 \t 0.6063521310136655 \t 0.2126312784039596\n",
      "MdAE 4 \t 0.54948658832487 \t 0.21873622662250847\n",
      "MdAE 5 \t 0.551049745425154 \t 0.2107298863002047\n"
     ]
    }
   ],
   "source": [
    "df = pd.read_csv('./results/d_index_plot_reg.csv')\n",
    "df['distribution'] = pd.Series('clustered', index=df.index).mask(df['filename'].str.contains('random'), 'random')\n",
    "df1 = df[df['distribution'] == 'random']\n",
    "df2 = df[df['distribution'] == 'clustered']\n",
    "for r in df1['r'].unique():\n",
    "    temp = df1[df1['r'] == r]\n",
    "    print('MAE', r, '\\t', temp['mae'].mean(), '\\t', temp['mae'].std())\n",
    "\n",
    "print()\n",
    "\n",
    "for r in df1['r'].unique():\n",
    "    temp = df1[df1['r'] == r]\n",
    "    print('MdAE', r, '\\t', temp['mdae'].mean(), '\\t', temp['mdae'].std())\n",
    "\n",
    "print()\n",
    "\n",
    "for r in df2['r'].unique():\n",
    "    temp = df2[df2['r'] == r]\n",
    "    print('MAE', r, '\\t', temp['mae'].mean(), '\\t', temp['mae'].std())\n",
    "\n",
    "print()\n",
    "    \n",
    "for r in df2['r'].unique():\n",
    "    temp = df2[df2['r'] == r]\n",
    "    print('MdAE', r, '\\t', temp['mdae'].mean(), '\\t', temp['mdae'].std())"
   ]
  }
 ],
 "metadata": {
  "kernelspec": {
   "display_name": ".venv",
   "language": "python",
   "name": "python3"
  },
  "language_info": {
   "codemirror_mode": {
    "name": "ipython",
    "version": 3
   },
   "file_extension": ".py",
   "mimetype": "text/x-python",
   "name": "python",
   "nbconvert_exporter": "python",
   "pygments_lexer": "ipython3",
   "version": "3.10.12"
  }
 },
 "nbformat": 4,
 "nbformat_minor": 2
}
