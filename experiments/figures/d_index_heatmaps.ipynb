{
 "cells": [
  {
   "cell_type": "code",
   "execution_count": null,
   "metadata": {},
   "outputs": [],
   "source": [
    "%matplotlib inline\n",
    "\n",
    "import pandas as pd\n",
    "import numpy as np\n",
    "import networkx as nx\n",
    "import matplotlib.pyplot as plt\n",
    "organism_group_labels = [\"Bacteria\", \"Fungi\", \"Root-feeding Nematodes\", \"Bacterivorous Nematodes\", \"Fungivorous Nematodes\", \"Omnivorous Nematodes\", \"Fungivorous Mites\", \"Omnivorous Mites\", \"Collembolans\"]\n",
    "filenames = ['random_1', 'random_2', 'random_3', 'random_4', 'random_5', 'random_6', 'clustered_1', 'clustered_2', 'clustered_3', 'clustered_4', 'clustered_5', 'clustered_6']"
   ]
  },
  {
   "cell_type": "code",
   "execution_count": null,
   "metadata": {},
   "outputs": [],
   "source": [
    "def compute_d_index_global(data, grid_dimensions, range_by_type):\n",
    "    X, Y = grid_dimensions\n",
    "    num_types = 9\n",
    "    type_count = np.zeros((X, Y, num_types))  # Counts for each type at each spatial unit\n",
    "    D_matrices = [np.zeros((X, Y)) for _ in range(num_types)]  # 9 matrices for each type\n",
    "\n",
    "    # Populate the 2D grid with agent counts\n",
    "    for _, agent in data.iterrows():\n",
    "        x, y, t = agent['x'], agent['y'], agent['type']\n",
    "        type_count[x][y][t] += 1\n",
    "\n",
    "    # Calculate the total number of agents for each type in the entire grid\n",
    "    total_count_by_type = np.sum(type_count, axis=(0, 1))\n",
    "\n",
    "    def compute_neighborhood_counts(x, y, r):\n",
    "        \"\"\"Compute counts of each type in the Von Neumann neighborhood of (x, y) with range r.\"\"\"\n",
    "        neighborhood_count = np.zeros(num_types)\n",
    "        for dx in range(-r, r + 1):\n",
    "            for dy in range(-r + abs(dx), r - abs(dx) + 1):\n",
    "                    nx = (x + dx) % X\n",
    "                    ny = (y + dy) % Y\n",
    "                    neighborhood_count += type_count[nx][ny]\n",
    "        return neighborhood_count\n",
    "\n",
    "    # Calculate the Dissimilarity Index for each spatial unit\n",
    "    for x in range(X):\n",
    "        for y in range(Y):\n",
    "            for t in range(num_types):\n",
    "                r = range_by_type[t]\n",
    "                neighborhood_count = compute_neighborhood_counts(x, y, r)\n",
    "                \n",
    "                for t_prime in range(num_types):\n",
    "                    if neighborhood_count[t] > 0 and total_count_by_type[t] > 0 and total_count_by_type[t_prime] > 0:\n",
    "                        prop_t = neighborhood_count[t] / total_count_by_type[t]\n",
    "                        prop_t_prime = neighborhood_count[t_prime] / total_count_by_type[t_prime]\n",
    "                        \n",
    "                        # Calculate the absolute difference\n",
    "                        D = abs(prop_t - prop_t_prime)\n",
    "                        \n",
    "                        # Accumulate the difference in the respective matrix\n",
    "                        D_matrices[t][x, y] += D\n",
    "\n",
    "    og_matrix = D_matrices\n",
    "    # Normalize the D-index matrices\n",
    "    for t in range(num_types):\n",
    "        D_max = np.max(D_matrices[t])\n",
    "        if D_max > 0:\n",
    "            D_matrices[t] /= D_max  # Normalize to [0, 1]\n",
    "        else:\n",
    "            D_matrices[t] = np.zeros_like(D_matrices[t])  # Handle cases with no data\n",
    "\n",
    "    return D_matrices, og_matrix"
   ]
  },
  {
   "cell_type": "code",
   "execution_count": null,
   "metadata": {},
   "outputs": [],
   "source": [
    "indices = pd.DataFrame(columns=['filename', 'init_locs', 'seed', 'type_id', '0', '1', '2', '3', '4', '5', '6', '7', '8'])\n",
    "d_indices = []\n",
    "for idx, filename in enumerate(filenames):  \n",
    "    df = pd.read_csv(path + filename + \".csv\")\n",
    "    data = df[df[\"tick\"] == sample_times[idx]]\n",
    "    data = data.reset_index(drop=True)\n",
    "    d_index, og_ds = compute_d_index_global(data, (400, 400), [1,1,3,3,3,4,5,6,6])\n",
    "    for type_id, row in enumerate(d_index):\n",
    "        indices = pd.concat([indices, pd.DataFrame({'filename': [filename], 'init_locs': [init_locs[idx]], 'seed': [init_seed[idx]], 'type_id': [type_id], '0': [row[0]], '1': [row[1]], '2': [row[2]], '3': [row[3]], '4': [row[4]], '5': [row[5]], '6': [row[6]], '7': [row[7]], '8': [row[8]]})])\n",
    "    d_indices.append(d_index)\n",
    "\n",
    "indices.to_csv('known_d_indices_global_r_org.csv', index=False)\n",
    "arr = np.asarray(d_indices)\n",
    "np.save('d_indices_global_r_org.npy', arr)"
   ]
  },
  {
   "cell_type": "code",
   "execution_count": null,
   "metadata": {},
   "outputs": [],
   "source": [
    "indices = pd.DataFrame(columns=['filename', 'init_locs', 'seed', 'type_id', '0', '1', '2', '3', '4', '5', '6', '7', '8'])\n",
    "d_indices = []\n",
    "for idx, filename in enumerate(filenames):  \n",
    "    df = pd.read_csv(path + filename + \".csv\")\n",
    "    data = df[df[\"tick\"] == sample_times[idx]]\n",
    "    data = data.reset_index(drop=True)\n",
    "    d_index, og_ds = compute_d_index_global(data, (400, 400),  [2, 2, 2, 2, 2, 2, 2, 2, 2])\n",
    "    for type_id, row in enumerate(d_index):\n",
    "        indices = pd.concat([indices, pd.DataFrame({'filename': [filename], 'init_locs': [init_locs[idx]], 'seed': [init_seed[idx]], 'type_id': [type_id], '0': [row[0]], '1': [row[1]], '2': [row[2]], '3': [row[3]], '4': [row[4]], '5': [row[5]], '6': [row[6]], '7': [row[7]], '8': [row[8]]})])\n",
    "    d_indices.append(d_index)\n",
    "\n",
    "indices.to_csv('known_d_indices_global_r_2.csv', index=False)\n",
    "arr = np.asarray(d_indices)\n",
    "np.save('d_indices_global_r_2.npy', arr)"
   ]
  },
  {
   "cell_type": "code",
   "execution_count": null,
   "metadata": {},
   "outputs": [],
   "source": [
    "def plot_d_index_heatmaps(D_matrices):\n",
    "    \"\"\"\n",
    "    Plot the D-index heatmaps for each agent type.\n",
    "    \n",
    "    Parameters:\n",
    "    - D_matrices: List of 9 matrices, each representing the D-index heatmap for a specific type.\n",
    "    \"\"\"\n",
    "    num_types = len(D_matrices)\n",
    "    \n",
    "    # Create a figure with 3x3 subplots\n",
    "    fig, axes = plt.subplots(3, 3, figsize=(15, 15))\n",
    "    \n",
    "    # Flatten axes array for easy iteration\n",
    "    axes = axes.flatten()\n",
    "    \n",
    "    # Plot each D-index matrix\n",
    "    for t in range(num_types):\n",
    "        ax = axes[t]\n",
    "        cax = ax.imshow(D_matrices[t].T, cmap='viridis', origin='lower')\n",
    "        ax.set_title(f'{organism_group_labels[t]}')\n",
    "        ax.set_xlabel('X')\n",
    "        ax.set_ylabel('Y')\n",
    "        fig.colorbar(cax, ax=ax, orientation='vertical')\n",
    "    \n",
    "    plt.suptitle(f'D-index Heatmaps per Agent Type', fontsize=16)\n",
    "    plt.tight_layout(rect=[0, 0, 0.95, 0.96])  # Adjust to make room for the suptitle\n",
    "    plt.show()"
   ]
  },
  {
   "cell_type": "code",
   "execution_count": null,
   "metadata": {},
   "outputs": [],
   "source": [
    "d_indices = np.load('d_indices_global_r_org.npy')\n",
    "plot_d_index_heatmaps(d_indices[0])"
   ]
  },
  {
   "cell_type": "code",
   "execution_count": null,
   "metadata": {},
   "outputs": [],
   "source": [
    "d_indices = np.load('d_indices_global_r_2.npy')\n",
    "plot_d_index_heatmaps(d_indices[0])"
   ]
  }
 ],
 "metadata": {
  "language_info": {
   "name": "python"
  }
 },
 "nbformat": 4,
 "nbformat_minor": 2
}
