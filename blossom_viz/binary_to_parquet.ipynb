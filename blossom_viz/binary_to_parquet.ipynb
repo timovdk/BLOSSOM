{
 "cells": [
  {
   "cell_type": "code",
   "execution_count": 1,
   "id": "bfdaab15",
   "metadata": {},
   "outputs": [],
   "source": [
    "import glob\n",
    "import re\n",
    "import numpy as np\n",
    "import polars as pl\n",
    "from collections import defaultdict\n",
    "import os\n",
    "\n",
    "filename = \"random\"\n",
    "inPath = \"../blossom_cpp/outputs/\"\n",
    "outputPath = \"./parquet_files/\"\n",
    "\n",
    "dtype_agent = np.dtype([\n",
    "    ('id', 'u4'), #unused\n",
    "    ('biomass', 'f4'), # unused\n",
    "    ('tick', 'u2'), \n",
    "    ('x', 'u2'),\n",
    "    ('y', 'u2'),\n",
    "    ('type', 'u1'),\n",
    "    ('age', 'u1') #unused\n",
    "])\n",
    "\n",
    "dtype_agent_small = np.dtype([\n",
    "    ('tick', 'u2'), \n",
    "    ('x', 'u2'),\n",
    "    ('y', 'u2'),\n",
    "    ('type', 'u1'),\n",
    "])\n",
    "\n",
    "dtype_som = np.dtype([\n",
    "    (\"som_value\", \"f4\"),\n",
    "    (\"tick\", \"u2\"),\n",
    "    (\"x\", \"u2\"),\n",
    "    (\"y\", \"u2\"),\n",
    "])"
   ]
  },
  {
   "cell_type": "markdown",
   "id": "24d30390",
   "metadata": {},
   "source": [
    "# Code for local runs"
   ]
  },
  {
   "cell_type": "code",
   "execution_count": 3,
   "id": "909110d1",
   "metadata": {},
   "outputs": [
    {
     "name": "stdout",
     "output_type": "stream",
     "text": [
      "Processing setup 0 with 1 rotated files...\n",
      "Processing setup 1 with 2 rotated files...\n",
      "Processing setup 0 with 2 rotated files...\n"
     ]
    }
   ],
   "source": [
    "for sub in [\"agent/\", \"som/\"]:\n",
    "    files = glob.glob(inPath + sub + filename + \"_*.bin\")\n",
    "\n",
    "    grouped_files = defaultdict(list)\n",
    "\n",
    "    for file in files:\n",
    "        match = re.match(filename + r\"_(\\d+)_(\\d+)\\.bin\", os.path.basename(file))\n",
    "        if match:\n",
    "            setup_id, rotation_id = match.groups()\n",
    "            grouped_files[int(setup_id)].append((int(rotation_id), file))\n",
    "\n",
    "    for setup_id, file_list in grouped_files.items():\n",
    "        print(f\"Processing setup {setup_id} with {len(file_list)} rotated files...\")\n",
    "\n",
    "        file_list.sort()\n",
    "\n",
    "        dfs = []\n",
    "        for _, path in file_list:\n",
    "            data = np.fromfile(\n",
    "                path, dtype=dtype_agent_small if sub == \"agent/\" else dtype_som\n",
    "            )\n",
    "            df = pl.DataFrame(data)\n",
    "            dfs.append(df)\n",
    "\n",
    "        full_df = pl.concat(dfs)\n",
    "\n",
    "        output_filename = (\n",
    "            f\"{filename}_{setup_id}{'_SOM' if sub == 'som/' else ''}.parquet\"\n",
    "        )\n",
    "        full_df.write_parquet(outputPath + output_filename, compression=\"zstd\")"
   ]
  }
 ],
 "metadata": {
  "kernelspec": {
   "display_name": "blossom",
   "language": "python",
   "name": "python3"
  },
  "language_info": {
   "codemirror_mode": {
    "name": "ipython",
    "version": 3
   },
   "file_extension": ".py",
   "mimetype": "text/x-python",
   "name": "python",
   "nbconvert_exporter": "python",
   "pygments_lexer": "ipython3",
   "version": "3.13.3"
  }
 },
 "nbformat": 4,
 "nbformat_minor": 5
}
