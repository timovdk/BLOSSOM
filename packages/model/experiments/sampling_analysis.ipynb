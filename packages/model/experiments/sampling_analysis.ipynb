{
 "cells": [
  {
   "cell_type": "code",
   "execution_count": 12,
   "metadata": {},
   "outputs": [],
   "source": [
    "%matplotlib inline\n",
    "\n",
    "import pandas as pd\n",
    "import numpy as np\n",
    "import matplotlib.pyplot as plt\n",
    "import networkx as nx\n",
    "import scipy.stats as stats\n",
    "\n",
    "filename = 'agent_log_9'\n",
    "\n",
    "x_max = 400\n",
    "y_max = 400\n",
    "z_max = 20\n",
    "\n",
    "no_of_samples = 16\n",
    "r = 2\n",
    "d = 20"
   ]
  },
  {
   "cell_type": "code",
   "execution_count": 13,
   "metadata": {},
   "outputs": [],
   "source": [
    "df = pd.read_csv(\"output/\" + filename + \".csv\")\n",
    "data = df[df[\"tick\"] == 20]#df[\"tick\"].max()]\n",
    "data = data.reset_index(drop=True)"
   ]
  },
  {
   "cell_type": "code",
   "execution_count": 14,
   "metadata": {},
   "outputs": [],
   "source": [
    "def systematic_regular(no_of_samples, x, y):\n",
    "    # Calculate the dimensions of the regular grid\n",
    "    rows = int(np.sqrt(no_of_samples))\n",
    "    cols = int(np.ceil(no_of_samples / rows))\n",
    "\n",
    "    # Calculate the padding to ensure points are equally spaced\n",
    "    padding_x = (x - (rows - 1)) // rows\n",
    "    padding_y = (y - (cols - 1)) // cols\n",
    "\n",
    "    # Initialize points list\n",
    "    points = []\n",
    "\n",
    "    # Select equally spaced points with padding\n",
    "    for i in range(rows):\n",
    "        for j in range(cols):\n",
    "            points.append((int((i * (padding_x + 1)) + ((padding_x + 1)/2)), int((j * (padding_y + 1) + ((padding_y + 1)/2)))))\n",
    "\n",
    "    return points[:no_of_samples]\n",
    "\n",
    "def systematic_random(no_of_samples, x, y):\n",
    "    # Calculate the dimensions of the regular grid\n",
    "    rows = int(np.sqrt(no_of_samples))\n",
    "    cols = int(np.ceil(no_of_samples / rows))\n",
    "\n",
    "    # Calculate the padding to ensure points are equally spaced\n",
    "    padding_x = (x - (rows - 1)) // rows\n",
    "    padding_y = (y - (cols - 1)) // cols\n",
    "\n",
    "    # Initialize points list\n",
    "    points = []\n",
    "    x_range = range(int(-(padding_x + 1)/2), int((padding_x + 1)/2))\n",
    "    y_range = range(int(-(padding_y + 1)/2), int((padding_y + 1)/2))\n",
    "\n",
    "    # Select equally spaced points with padding\n",
    "    for i in range(rows):\n",
    "        for j in range(cols):\n",
    "            x_offset = np.random.choice(x_range)\n",
    "            y_offset = np.random.choice(y_range)\n",
    "            points.append((int((i * (padding_x + 1)) + ((padding_x + 1)/2) + x_offset), int((j * (padding_y + 1) + ((padding_y + 1)/2)) + y_offset)))\n",
    "\n",
    "    return points[:no_of_samples]\n",
    "\n",
    "def default_random(no_of_samples, x, y):\n",
    "    # Initialize points list\n",
    "    points = []\n",
    "    x_range = range(x)\n",
    "    y_range = range(y)\n",
    "\n",
    "    # Select equally spaced points with padding\n",
    "    for _ in range(no_of_samples):\n",
    "        x_coord = np.random.choice(x_range)\n",
    "        y_coord = np.random.choice(y_range)\n",
    "        points.append((x_coord, y_coord))\n",
    "\n",
    "    return points[:no_of_samples]\n",
    "\n",
    "def wageningen_w():\n",
    "    return [(50, 50), (50, 150), (50, 250), (50, 350), (150, 150), (150, 250), (250, 150), (250, 250), (350, 50), (350, 150), (350, 250), (350, 350)]\n",
    "    "
   ]
  },
  {
   "cell_type": "code",
   "execution_count": 15,
   "metadata": {},
   "outputs": [],
   "source": [
    "def retrieve_ids_per_sample(points, data, r, d):\n",
    "    samples =  [ [] for _ in range(len(points)) ]\n",
    "    for ind, row in data.iterrows():\n",
    "        for index, point in enumerate(points):\n",
    "            x1, y1 = point\n",
    "            x2 = row.x\n",
    "            y2 = row.y\n",
    "            z2 = row.z\n",
    "\n",
    "            if (z2 <= d) and ((abs(x1 - x2) + abs(y1 - y2)) <= r):\n",
    "                samples[index].append(ind)\n",
    "    return samples   "
   ]
  },
  {
   "cell_type": "code",
   "execution_count": 16,
   "metadata": {},
   "outputs": [
    {
     "name": "stdout",
     "output_type": "stream",
     "text": [
      "Selected points: [(7, 65), (67, 115), (58, 251), (26, 339), (156, 33), (164, 174), (110, 218), (129, 367), (219, 48), (292, 190), (298, 289), (299, 384), (391, 23), (393, 135), (376, 260), (317, 329)]\n",
      "Simulated samples: [[1056, 1248], [88, 527, 559, 611, 1960], [2490, 2826], [2387, 2927, 3095, 3126, 3151, 3353, 3358, 3492, 3507, 3512, 4246, 4255], [1440], [507, 1270, 1418], [2684, 2690, 2865, 2916, 2996, 3025, 3075, 3196, 3316, 3969, 3995, 4220], [], [5515, 5674], [4913, 5252, 5422, 5433, 5477, 6068, 6448, 6496], [7648], [8310, 8474, 8505], [5268], [4486], [6962, 7756, 7895], [6940, 7104]]\n"
     ]
    },
    {
     "data": {
      "image/png": "[encoded data removed]",
      "text/plain": [
       "<Figure size 600x600 with 1 Axes>"
      ]
     },
     "metadata": {},
     "output_type": "display_data"
    }
   ],
   "source": [
    "x_max = 400\n",
    "y_max = 400\n",
    "z_max = 20\n",
    "\n",
    "no_of_samples = 16\n",
    "r = 4\n",
    "d = 20\n",
    "\n",
    "#selected_points = systematic_regular(no_of_samples, x_max, y_max)\n",
    "selected_points = systematic_random(no_of_samples, x_max, y_max)\n",
    "#selected_points = default_random(no_of_samples, x_max, y_max)\n",
    "#selected_points = wageningen_w()\n",
    "samples = retrieve_ids_per_sample(selected_points, data, r, d)\n",
    "\n",
    "print(\"Selected points:\", selected_points)\n",
    "print(\"Simulated samples:\", samples)\n",
    "\n",
    "# Plotting the points in a grid\n",
    "plt.figure(figsize=(6, 6))\n",
    "plt.plot([0, x_max, x_max, 0, 0], [0, 0, y_max, y_max, 0], 'k-')  # Plot grid boundaries\n",
    "for ind, point in enumerate(selected_points):\n",
    "    plt.plot(point[0], point[1], 'bo')#, markersize=(0.1 * len(samples[ind])))  # Plot selected points\n",
    "plt.xlabel('Width')\n",
    "plt.ylabel('Height')\n",
    "plt.title('Selected Points in Grid')\n",
    "plt.grid(True)\n",
    "plt.axis('equal')\n",
    "plt.show()"
   ]
  },
  {
   "cell_type": "code",
   "execution_count": 17,
   "metadata": {},
   "outputs": [],
   "source": [
    "sample_site_counts = []\n",
    "for sample_site in samples:\n",
    "    df2 = data.iloc[sample_site]\n",
    "    count = df2['type'].value_counts().reindex(range(len(df[\"type\"].unique())), fill_value=0)\n",
    "    sample_site_counts.append([val for _, val in count.items()])\n"
   ]
  },
  {
   "cell_type": "code",
   "execution_count": 18,
   "metadata": {},
   "outputs": [],
   "source": [
    "def pearson_cooccurrence(abundance_data, threshold=0):\n",
    "    # Initialize a graph\n",
    "    G = nx.Graph()\n",
    "\n",
    "    # Calculate the Pearson correlation coefficient matrix\n",
    "    pearson_matrix = np.corrcoef(abundance_data)\n",
    "\n",
    "    # Get the number of entities\n",
    "    num_entities = len(abundance_data[0])\n",
    "\n",
    "    # Iterate through the Pearson correlation matrix to create co-occurrence edges\n",
    "    for i in range(num_entities):\n",
    "        for j in range(i + 1, num_entities):\n",
    "            # Check if the correlation coefficient exceeds the threshold\n",
    "            if (not np.isnan(pearson_matrix[i][j])) and (pearson_matrix[i][j] > threshold):\n",
    "                G.add_edge(i, j, weight=pearson_matrix[i][j])\n",
    "\n",
    "    return G, pearson_matrix\n",
    "\n",
    "def spearman_cooccurrence(abundance_data, threshold=0):\n",
    "    # Initialize a graph\n",
    "    G = nx.Graph()\n",
    "\n",
    "    # Calculate the Pearson correlation coefficient matrix\n",
    "    spearman_matrix = stats.spearmanr(abundance_data).statistic\n",
    "    \n",
    "    # Get the number of entities\n",
    "    num_entities = len(abundance_data[0])\n",
    "\n",
    "    # Iterate through the Pearson correlation matrix to create co-occurrence edges\n",
    "    for i in range(num_entities):\n",
    "        for j in range(i + 1, num_entities):\n",
    "            # Check if the correlation coefficient exceeds the threshold\n",
    "            if (not np.isnan(spearman_matrix[i][j])) and (spearman_matrix[i][j] > threshold):\n",
    "                G.add_edge(i, j, weight=spearman_matrix[i][j])\n",
    "\n",
    "    return G, spearman_matrix"
   ]
  },
  {
   "cell_type": "code",
   "execution_count": 19,
   "metadata": {},
   "outputs": [
    {
     "name": "stderr",
     "output_type": "stream",
     "text": [
      "/home/timovdk/soil_sim/.venv/lib/python3.10/site-packages/numpy/lib/function_base.py:2897: RuntimeWarning: invalid value encountered in divide\n",
      "  c /= stddev[:, None]\n",
      "/home/timovdk/soil_sim/.venv/lib/python3.10/site-packages/numpy/lib/function_base.py:2898: RuntimeWarning: invalid value encountered in divide\n",
      "  c /= stddev[None, :]\n"
     ]
    },
    {
     "data": {
      "image/png": "[encoded data removed]",
      "text/plain": [
       "<Figure size 640x480 with 1 Axes>"
      ]
     },
     "metadata": {},
     "output_type": "display_data"
    }
   ],
   "source": [
    "pearson_net, pearson = pearson_cooccurrence(sample_site_counts, 0.3)\n",
    "\n",
    "nx.draw_planar(pearson_net, with_labels=True)"
   ]
  },
  {
   "cell_type": "code",
   "execution_count": 20,
   "metadata": {},
   "outputs": [
    {
     "data": {
      "image/png": "[encoded data removed]",
      "text/plain": [
       "<Figure size 640x480 with 1 Axes>"
      ]
     },
     "metadata": {},
     "output_type": "display_data"
    }
   ],
   "source": [
    "spearman_net, spearman = spearman_cooccurrence(sample_site_counts, 0.3)\n",
    "\n",
    "nx.draw_planar(spearman_net, with_labels=True)"
   ]
  },
  {
   "cell_type": "code",
   "execution_count": 21,
   "metadata": {},
   "outputs": [
    {
     "data": {
      "text/plain": [
       "4.0"
      ]
     },
     "execution_count": 21,
     "metadata": {},
     "output_type": "execute_result"
    }
   ],
   "source": [
    "nx.graph_edit_distance(pearson_net, spearman_net)"
   ]
  },
  {
   "cell_type": "code",
   "execution_count": 22,
   "metadata": {},
   "outputs": [],
   "source": [
    "G = nx.Graph()\n",
    "\n",
    "G.add_nodes_from(\n",
    "    [\n",
    "        (0, {\"organism\": \"bacteria\"}),\n",
    "        (1, {\"organism\": \"fungi\"}),\n",
    "        (2, {\"organism\": \"mycorrhizae\"}),\n",
    "        (3, {\"organism\": \"amoebae\"}),\n",
    "        (4, {\"organism\": \"flagellates\"}),\n",
    "        (5, {\"organism\": \"root-feeding nematodes\"}),\n",
    "        (6, {\"organism\": \"bacterivorous nematodes\"}),\n",
    "        (7, {\"organism\": \"fungivorous nematodes\"}),\n",
    "        (8, {\"organism\": \"omnivorous nematodes\"}),\n",
    "        (9, {\"organism\": \"fungivorous mites\"}),\n",
    "        (10, {\"organism\": \"omnivorous mites\"}),\n",
    "        (11, {\"organism\": \"collembolans\"}),\n",
    "    ]\n",
    ")\n",
    "G.add_edge(0, 6, weight=-0.5)\n",
    "G.add_edge(0, 4, weight=-0.5)\n",
    "G.add_edge(0, 8, weight=-0.5)\n",
    "G.add_edge(0, 3, weight=-0.5)\n",
    "\n",
    "G.add_edge(1, 7, weight=-0.5)\n",
    "G.add_edge(1, 9, weight=-0.5)\n",
    "G.add_edge(1, 11, weight=-0.5)\n",
    "\n",
    "G.add_edge(2, 7, weight=-0.5)\n",
    "G.add_edge(2, 9, weight=-0.5)\n",
    "G.add_edge(2, 11, weight=-0.5)\n",
    "\n",
    "G.add_edge(3, 8, weight=-0.5)\n",
    "\n",
    "G.add_edge(4, 8, weight=-0.5)\n",
    "G.add_edge(4, 3, weight=-0.5)\n",
    "\n",
    "G.add_edge(5, 8, weight=-0.5)\n",
    "G.add_edge(5, 10, weight=-0.5)\n",
    "\n",
    "G.add_edge(6, 8, weight=-0.5)\n",
    "G.add_edge(6, 10, weight=-0.5)\n",
    "\n",
    "G.add_edge(7, 8, weight=-0.5)\n",
    "G.add_edge(7, 10, weight=-0.5)\n",
    "\n",
    "G.add_edge(8, 10, weight=-0.5)\n",
    "\n",
    "G.add_edge(9, 10, weight=-0.5)\n",
    "\n",
    "G.add_edge(11, 10, weight=-0.5)"
   ]
  }
 ],
 "metadata": {
  "kernelspec": {
   "display_name": ".venv",
   "language": "python",
   "name": "python3"
  },
  "language_info": {
   "codemirror_mode": {
    "name": "ipython",
    "version": 3
   },
   "file_extension": ".py",
   "mimetype": "text/x-python",
   "name": "python",
   "nbconvert_exporter": "python",
   "pygments_lexer": "ipython3",
   "version": "3.10.12"
  }
 },
 "nbformat": 4,
 "nbformat_minor": 2
}
